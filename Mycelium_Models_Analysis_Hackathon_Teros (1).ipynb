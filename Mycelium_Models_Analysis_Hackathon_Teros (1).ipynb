{
  "nbformat": 4,
  "nbformat_minor": 0,
  "metadata": {
    "colab": {
      "provenance": [],
      "collapsed_sections": []
    },
    "kernelspec": {
      "name": "python3",
      "display_name": "Python 3"
    },
    "language_info": {
      "name": "python"
    }
  },
  "cells": [
    {
      "cell_type": "markdown",
      "source": [
        "### IMPORTANDO BIBLIOTECAS E FERRAMENTAS NECESSÁRIAS"
      ],
      "metadata": {
        "id": "to73o0PWiUnf"
      }
    },
    {
      "cell_type": "code",
      "source": [
        "import pandas as pd \n",
        "import numpy as np\n",
        "import matplotlib.pyplot as plt\n",
        "import seaborn as sns\n",
        "import statsmodels.stats.api as sm\n",
        "import lightgbm as lgb\n",
        "import category_encoders as ce \n",
        "\n",
        "from sklearn.linear_model import *#, LinearRegression, LogisticRegression\n",
        "from sklearn.tree import * # DecisionTreeRegressor, DecisionTreeClassifier\n",
        "from sklearn.ensemble import(\n",
        "    RandomForestClassifier,\n",
        "    RandomForestRegressor,\n",
        "    AdaBoostRegressor,\n",
        "    GradientBoostingRegressor,\n",
        "    StackingRegressor,\n",
        "    VotingClassifier\n",
        ")\n",
        "\n",
        "from sklearn.neural_network import MLPRegressor\n",
        "from sklearn.pipeline import *\n",
        "from xgboost import *\n",
        "from sklearn.preprocessing import *\n",
        "from sklearn.metrics import *\n",
        "from sklearn.compose import *\n",
        "from sklearn import * # neural_network\n",
        "from sklearn.model_selection import * # train_test_split, cross_val_score\n",
        "from sklearn.neighbors import * # KNeighborsClassifier\n",
        "from sklearn.impute import SimpleImputer\n",
        "from category_encoders import * # OrdinalEncoder, OneHotEncoder\n",
        "from sklearn import preprocessing\n",
        "from sklearn import tree\n",
        "from sklearn.compose import make_column_transformer\n",
        "\n",
        "import warnings\n",
        "\n",
        "warnings.filterwarnings('ignore')\n",
        "\n",
        "from sklearn.metrics import mean_absolute_error, mean_squared_error, r2_score"
      ],
      "metadata": {
        "id": "CTBkaX8ziYDN"
      },
      "execution_count": 759,
      "outputs": []
    },
    {
      "cell_type": "markdown",
      "source": [
        "## CARREGANDO OS DADOS E PEQUENOS TRATAMENTOS"
      ],
      "metadata": {
        "id": "qKk_TXz2j-cp"
      }
    },
    {
      "cell_type": "code",
      "source": [
        "# instânciando os dfs\n",
        "\n",
        "df_teste = pd.read_csv('/content/sample_data/dados_teste_hackaton.csv', encoding=\"ISO-8859-1\")\n",
        "df_treino = pd.read_csv('/content/sample_data/dados_treino_hackaton.csv', encoding=\"ISO-8859-1\")"
      ],
      "metadata": {
        "id": "SKcg9wzkj3jR"
      },
      "execution_count": 760,
      "outputs": []
    },
    {
      "cell_type": "code",
      "source": [
        "df_treino.columns"
      ],
      "metadata": {
        "colab": {
          "base_uri": "https://localhost:8080/"
        },
        "id": "24HgrbxwqNfV",
        "outputId": "a9acad3b-2c5d-44c5-9078-eaed81e23dff"
      },
      "execution_count": 761,
      "outputs": [
        {
          "output_type": "execute_result",
          "data": {
            "text/plain": [
              "Index(['Unnamed: 0', 'Codigo_da_oportunidade', 'Classificacao_da_Oportunidade',\n",
              "       'Data_de_criacao', 'Faixa_de_Faturamento_Agregado',\n",
              "       'Data_Real_de_Encerramento_da_Opp2', 'id_fechou',\n",
              "       'numero_relacionamentos', 'numero_relacionamentos_convertidos',\n",
              "       'intervalo_tempo', 'ano', 'Valor_corrigido2',\n",
              "       'Forma_de_Contratacao_Agregado', 'Concorrentes', 'n_solucoes',\n",
              "       'Software', 'Comissão sobre Parceiros', 'Cybersecurity',\n",
              "       'Desdobramento de metas', 'ESG', 'Equilíbrio fiscal', 'Skill_dev',\n",
              "       'Gestão Estratégica', 'Gestão da Educação', 'Gestão da Operação',\n",
              "       'Gestão da Receita', 'Gestão da Saúde', 'Gestão da Segurança Pública',\n",
              "       'Gestão da Segurança Viária', 'Gestão de Gastos',\n",
              "       'Gestão de operações projetizadas', 'Gestão de pessoas',\n",
              "       'Processes Excellence', 'Produtos digitais', 'S_amp_OP_S_amp_OE',\n",
              "       'Transformação Digital', 'Treinamentos', 'Roadmap', 'Segmentacao',\n",
              "       'Carteira_Nova', 'Segmento_Agregado2', 'Total_HH', 'Custo_Total',\n",
              "       'Margem_Total', 'ID_cliente'],\n",
              "      dtype='object')"
            ]
          },
          "metadata": {},
          "execution_count": 761
        }
      ]
    },
    {
      "cell_type": "code",
      "source": [
        "df_teste.columns"
      ],
      "metadata": {
        "colab": {
          "base_uri": "https://localhost:8080/"
        },
        "id": "vvRhysHN2qil",
        "outputId": "96b0d54e-5f8e-47cb-9cdc-5311bd4ceab4"
      },
      "execution_count": 762,
      "outputs": [
        {
          "output_type": "execute_result",
          "data": {
            "text/plain": [
              "Index(['Unnamed: 0', 'Codigo_da_oportunidade', 'Classificacao_da_Oportunidade',\n",
              "       'Data_de_criacao', 'Faixa_de_Faturamento_Agregado',\n",
              "       'Data_Real_de_Encerramento_da_Opp2', 'numero_relacionamentos',\n",
              "       'numero_relacionamentos_convertidos', 'intervalo_tempo', 'ano',\n",
              "       'Valor_corrigido2', 'Forma_de_Contratacao_Agregado', 'Concorrentes',\n",
              "       'n_solucoes', 'Software', 'ComissÃ£o sobre Parceiros', 'Cybersecurity',\n",
              "       'Desdobramento de metas', 'ESG', 'EquilÃ­brio fiscal', 'Skill_dev',\n",
              "       'GestÃ£o EstratÃ©gica', 'GestÃ£o da EducaÃ§Ã£o',\n",
              "       'GestÃ£o da OperaÃ§Ã£o', 'GestÃ£o da Receita', 'GestÃ£o da SaÃºde',\n",
              "       'GestÃ£o da SeguranÃ§a PÃºblica', 'GestÃ£o da SeguranÃ§a ViÃ¡ria',\n",
              "       'GestÃ£o de Gastos', 'GestÃ£o de operaÃ§Ãµes projetizadas',\n",
              "       'GestÃ£o de pessoas', 'Processes Excellence', 'Produtos digitais',\n",
              "       'S_amp_OP_S_amp_OE', 'TransformaÃ§Ã£o Digital', 'Treinamentos',\n",
              "       'Roadmap', 'Segmentacao', 'Carteira_Nova', 'Segmento_Agregado2',\n",
              "       'Total_HH', 'Custo_Total', 'Margem_Total', 'ID_cliente'],\n",
              "      dtype='object')"
            ]
          },
          "metadata": {},
          "execution_count": 762
        }
      ]
    },
    {
      "cell_type": "code",
      "source": [
        "# drop em colunas desnecessárias\n",
        "\n",
        "df_treino.drop(columns=['Unnamed: 0', 'Codigo_da_oportunidade', 'ID_cliente', 'Data_de_criacao', 'Data_Real_de_Encerramento_da_Opp2'], inplace=True)\n",
        "df_teste.drop(columns=['Unnamed: 0', 'Codigo_da_oportunidade', 'ID_cliente', 'Data_de_criacao', 'Data_Real_de_Encerramento_da_Opp2'], inplace=True)"
      ],
      "metadata": {
        "id": "WoNQxhRUuewn"
      },
      "execution_count": 763,
      "outputs": []
    },
    {
      "cell_type": "code",
      "source": [
        "# arredondar os valores \n",
        "\n",
        "df_treino['Valor_corrigido2'] = df_treino['Valor_corrigido2'].round(2)\n",
        "df_teste['Valor_corrigido2'] = df_treino['Valor_corrigido2'].round(2)"
      ],
      "metadata": {
        "id": "Gbt2a0bxC3-K"
      },
      "execution_count": 764,
      "outputs": []
    },
    {
      "cell_type": "code",
      "source": [
        "# substituindo valores NaN por zero\n",
        "\n",
        "df_treino = df_treino.replace(np.nan, 0)\n",
        "df_teste = df_teste.replace(np.nan, 0)"
      ],
      "metadata": {
        "id": "9rTQyvL6vNmz"
      },
      "execution_count": 765,
      "outputs": []
    },
    {
      "cell_type": "markdown",
      "source": [
        "## DESCRIÇÂO DOS DADOS"
      ],
      "metadata": {
        "id": "78_aWYZyyF2v"
      }
    },
    {
      "cell_type": "code",
      "source": [
        "# visualizando dfs\n",
        "\n",
        "df_treino.head()"
      ],
      "metadata": {
        "colab": {
          "base_uri": "https://localhost:8080/",
          "height": 369
        },
        "id": "Tmqn0Nv2vwCI",
        "outputId": "6c87100e-5329-4cb4-aed8-20029b51f92a"
      },
      "execution_count": 766,
      "outputs": [
        {
          "output_type": "execute_result",
          "data": {
            "text/plain": [
              "  Classificacao_da_Oportunidade Faixa_de_Faturamento_Agregado  id_fechou  \\\n",
              "0                          Novo         De 60,1 a 300 milhoes          1   \n",
              "1                   Recuperação             De 501 a 1 bilhão          1   \n",
              "2                     Renovação            Acima de 5 bilhões          0   \n",
              "3                          Novo         De 60,1 a 300 milhoes          1   \n",
              "4                     Renovação            Acima de 5 bilhões          1   \n",
              "\n",
              "   numero_relacionamentos  numero_relacionamentos_convertidos  \\\n",
              "0                       1                                   0   \n",
              "1                       2                                   1   \n",
              "2                       8                                   5   \n",
              "3                       1                                   0   \n",
              "4                       6                                   5   \n",
              "\n",
              "   intervalo_tempo   ano  Valor_corrigido2 Forma_de_Contratacao_Agregado  \\\n",
              "0             0.00  2019         503536.33                  Concorrência   \n",
              "1             2.03  2019         618630.34              Sem Concorrência   \n",
              "2             6.27  2019        2700288.61              Sem Concorrência   \n",
              "3             0.00  2019          45803.99                  Concorrência   \n",
              "4             4.37  2019        4424331.37              Sem Concorrência   \n",
              "\n",
              "   Concorrentes  ...  S_amp_OP_S_amp_OE  Transformação Digital  Treinamentos  \\\n",
              "0             0  ...                  0                      0             0   \n",
              "1             0  ...                  0                      0             0   \n",
              "2             0  ...                  0                      0             0   \n",
              "3             0  ...                  0                      0             0   \n",
              "4             0  ...                  0                      0             0   \n",
              "\n",
              "   Roadmap  Segmentacao           Carteira_Nova          Segmento_Agregado2  \\\n",
              "0        0            2                Serviços    Telecomunicacoes e Midia   \n",
              "1        0            0           Bens Duráveis                 Demais Ind.   \n",
              "2        0            1                Serviços        Serviços Financeiros   \n",
              "3        0            0       Bens Não Duráveis  Ind de Alimentos e Bebidas   \n",
              "4        0            0  Internacional & Outros      Siderurgia e Mineração   \n",
              "\n",
              "   Total_HH  Custo_Total  Margem_Total  \n",
              "0     115.0    151368.42      0.567519  \n",
              "1     205.0    183543.74      0.573154  \n",
              "2     472.0    725715.00      0.615311  \n",
              "3       4.0     24540.16      0.233120  \n",
              "4     691.0   1639159.66      0.545262  \n",
              "\n",
              "[5 rows x 40 columns]"
            ],
            "text/html": [
              "\n",
              "  <div id=\"df-14c6bb76-f1eb-482a-af35-7eb803a0ac1d\">\n",
              "    <div class=\"colab-df-container\">\n",
              "      <div>\n",
              "<style scoped>\n",
              "    .dataframe tbody tr th:only-of-type {\n",
              "        vertical-align: middle;\n",
              "    }\n",
              "\n",
              "    .dataframe tbody tr th {\n",
              "        vertical-align: top;\n",
              "    }\n",
              "\n",
              "    .dataframe thead th {\n",
              "        text-align: right;\n",
              "    }\n",
              "</style>\n",
              "<table border=\"1\" class=\"dataframe\">\n",
              "  <thead>\n",
              "    <tr style=\"text-align: right;\">\n",
              "      <th></th>\n",
              "      <th>Classificacao_da_Oportunidade</th>\n",
              "      <th>Faixa_de_Faturamento_Agregado</th>\n",
              "      <th>id_fechou</th>\n",
              "      <th>numero_relacionamentos</th>\n",
              "      <th>numero_relacionamentos_convertidos</th>\n",
              "      <th>intervalo_tempo</th>\n",
              "      <th>ano</th>\n",
              "      <th>Valor_corrigido2</th>\n",
              "      <th>Forma_de_Contratacao_Agregado</th>\n",
              "      <th>Concorrentes</th>\n",
              "      <th>...</th>\n",
              "      <th>S_amp_OP_S_amp_OE</th>\n",
              "      <th>Transformação Digital</th>\n",
              "      <th>Treinamentos</th>\n",
              "      <th>Roadmap</th>\n",
              "      <th>Segmentacao</th>\n",
              "      <th>Carteira_Nova</th>\n",
              "      <th>Segmento_Agregado2</th>\n",
              "      <th>Total_HH</th>\n",
              "      <th>Custo_Total</th>\n",
              "      <th>Margem_Total</th>\n",
              "    </tr>\n",
              "  </thead>\n",
              "  <tbody>\n",
              "    <tr>\n",
              "      <th>0</th>\n",
              "      <td>Novo</td>\n",
              "      <td>De 60,1 a 300 milhoes</td>\n",
              "      <td>1</td>\n",
              "      <td>1</td>\n",
              "      <td>0</td>\n",
              "      <td>0.00</td>\n",
              "      <td>2019</td>\n",
              "      <td>503536.33</td>\n",
              "      <td>Concorrência</td>\n",
              "      <td>0</td>\n",
              "      <td>...</td>\n",
              "      <td>0</td>\n",
              "      <td>0</td>\n",
              "      <td>0</td>\n",
              "      <td>0</td>\n",
              "      <td>2</td>\n",
              "      <td>Serviços</td>\n",
              "      <td>Telecomunicacoes e Midia</td>\n",
              "      <td>115.0</td>\n",
              "      <td>151368.42</td>\n",
              "      <td>0.567519</td>\n",
              "    </tr>\n",
              "    <tr>\n",
              "      <th>1</th>\n",
              "      <td>Recuperação</td>\n",
              "      <td>De 501 a 1 bilhão</td>\n",
              "      <td>1</td>\n",
              "      <td>2</td>\n",
              "      <td>1</td>\n",
              "      <td>2.03</td>\n",
              "      <td>2019</td>\n",
              "      <td>618630.34</td>\n",
              "      <td>Sem Concorrência</td>\n",
              "      <td>0</td>\n",
              "      <td>...</td>\n",
              "      <td>0</td>\n",
              "      <td>0</td>\n",
              "      <td>0</td>\n",
              "      <td>0</td>\n",
              "      <td>0</td>\n",
              "      <td>Bens Duráveis</td>\n",
              "      <td>Demais Ind.</td>\n",
              "      <td>205.0</td>\n",
              "      <td>183543.74</td>\n",
              "      <td>0.573154</td>\n",
              "    </tr>\n",
              "    <tr>\n",
              "      <th>2</th>\n",
              "      <td>Renovação</td>\n",
              "      <td>Acima de 5 bilhões</td>\n",
              "      <td>0</td>\n",
              "      <td>8</td>\n",
              "      <td>5</td>\n",
              "      <td>6.27</td>\n",
              "      <td>2019</td>\n",
              "      <td>2700288.61</td>\n",
              "      <td>Sem Concorrência</td>\n",
              "      <td>0</td>\n",
              "      <td>...</td>\n",
              "      <td>0</td>\n",
              "      <td>0</td>\n",
              "      <td>0</td>\n",
              "      <td>0</td>\n",
              "      <td>1</td>\n",
              "      <td>Serviços</td>\n",
              "      <td>Serviços Financeiros</td>\n",
              "      <td>472.0</td>\n",
              "      <td>725715.00</td>\n",
              "      <td>0.615311</td>\n",
              "    </tr>\n",
              "    <tr>\n",
              "      <th>3</th>\n",
              "      <td>Novo</td>\n",
              "      <td>De 60,1 a 300 milhoes</td>\n",
              "      <td>1</td>\n",
              "      <td>1</td>\n",
              "      <td>0</td>\n",
              "      <td>0.00</td>\n",
              "      <td>2019</td>\n",
              "      <td>45803.99</td>\n",
              "      <td>Concorrência</td>\n",
              "      <td>0</td>\n",
              "      <td>...</td>\n",
              "      <td>0</td>\n",
              "      <td>0</td>\n",
              "      <td>0</td>\n",
              "      <td>0</td>\n",
              "      <td>0</td>\n",
              "      <td>Bens Não Duráveis</td>\n",
              "      <td>Ind de Alimentos e Bebidas</td>\n",
              "      <td>4.0</td>\n",
              "      <td>24540.16</td>\n",
              "      <td>0.233120</td>\n",
              "    </tr>\n",
              "    <tr>\n",
              "      <th>4</th>\n",
              "      <td>Renovação</td>\n",
              "      <td>Acima de 5 bilhões</td>\n",
              "      <td>1</td>\n",
              "      <td>6</td>\n",
              "      <td>5</td>\n",
              "      <td>4.37</td>\n",
              "      <td>2019</td>\n",
              "      <td>4424331.37</td>\n",
              "      <td>Sem Concorrência</td>\n",
              "      <td>0</td>\n",
              "      <td>...</td>\n",
              "      <td>0</td>\n",
              "      <td>0</td>\n",
              "      <td>0</td>\n",
              "      <td>0</td>\n",
              "      <td>0</td>\n",
              "      <td>Internacional &amp; Outros</td>\n",
              "      <td>Siderurgia e Mineração</td>\n",
              "      <td>691.0</td>\n",
              "      <td>1639159.66</td>\n",
              "      <td>0.545262</td>\n",
              "    </tr>\n",
              "  </tbody>\n",
              "</table>\n",
              "<p>5 rows × 40 columns</p>\n",
              "</div>\n",
              "      <button class=\"colab-df-convert\" onclick=\"convertToInteractive('df-14c6bb76-f1eb-482a-af35-7eb803a0ac1d')\"\n",
              "              title=\"Convert this dataframe to an interactive table.\"\n",
              "              style=\"display:none;\">\n",
              "        \n",
              "  <svg xmlns=\"http://www.w3.org/2000/svg\" height=\"24px\"viewBox=\"0 0 24 24\"\n",
              "       width=\"24px\">\n",
              "    <path d=\"M0 0h24v24H0V0z\" fill=\"none\"/>\n",
              "    <path d=\"M18.56 5.44l.94 2.06.94-2.06 2.06-.94-2.06-.94-.94-2.06-.94 2.06-2.06.94zm-11 1L8.5 8.5l.94-2.06 2.06-.94-2.06-.94L8.5 2.5l-.94 2.06-2.06.94zm10 10l.94 2.06.94-2.06 2.06-.94-2.06-.94-.94-2.06-.94 2.06-2.06.94z\"/><path d=\"M17.41 7.96l-1.37-1.37c-.4-.4-.92-.59-1.43-.59-.52 0-1.04.2-1.43.59L10.3 9.45l-7.72 7.72c-.78.78-.78 2.05 0 2.83L4 21.41c.39.39.9.59 1.41.59.51 0 1.02-.2 1.41-.59l7.78-7.78 2.81-2.81c.8-.78.8-2.07 0-2.86zM5.41 20L4 18.59l7.72-7.72 1.47 1.35L5.41 20z\"/>\n",
              "  </svg>\n",
              "      </button>\n",
              "      \n",
              "  <style>\n",
              "    .colab-df-container {\n",
              "      display:flex;\n",
              "      flex-wrap:wrap;\n",
              "      gap: 12px;\n",
              "    }\n",
              "\n",
              "    .colab-df-convert {\n",
              "      background-color: #E8F0FE;\n",
              "      border: none;\n",
              "      border-radius: 50%;\n",
              "      cursor: pointer;\n",
              "      display: none;\n",
              "      fill: #1967D2;\n",
              "      height: 32px;\n",
              "      padding: 0 0 0 0;\n",
              "      width: 32px;\n",
              "    }\n",
              "\n",
              "    .colab-df-convert:hover {\n",
              "      background-color: #E2EBFA;\n",
              "      box-shadow: 0px 1px 2px rgba(60, 64, 67, 0.3), 0px 1px 3px 1px rgba(60, 64, 67, 0.15);\n",
              "      fill: #174EA6;\n",
              "    }\n",
              "\n",
              "    [theme=dark] .colab-df-convert {\n",
              "      background-color: #3B4455;\n",
              "      fill: #D2E3FC;\n",
              "    }\n",
              "\n",
              "    [theme=dark] .colab-df-convert:hover {\n",
              "      background-color: #434B5C;\n",
              "      box-shadow: 0px 1px 3px 1px rgba(0, 0, 0, 0.15);\n",
              "      filter: drop-shadow(0px 1px 2px rgba(0, 0, 0, 0.3));\n",
              "      fill: #FFFFFF;\n",
              "    }\n",
              "  </style>\n",
              "\n",
              "      <script>\n",
              "        const buttonEl =\n",
              "          document.querySelector('#df-14c6bb76-f1eb-482a-af35-7eb803a0ac1d button.colab-df-convert');\n",
              "        buttonEl.style.display =\n",
              "          google.colab.kernel.accessAllowed ? 'block' : 'none';\n",
              "\n",
              "        async function convertToInteractive(key) {\n",
              "          const element = document.querySelector('#df-14c6bb76-f1eb-482a-af35-7eb803a0ac1d');\n",
              "          const dataTable =\n",
              "            await google.colab.kernel.invokeFunction('convertToInteractive',\n",
              "                                                     [key], {});\n",
              "          if (!dataTable) return;\n",
              "\n",
              "          const docLinkHtml = 'Like what you see? Visit the ' +\n",
              "            '<a target=\"_blank\" href=https://colab.research.google.com/notebooks/data_table.ipynb>data table notebook</a>'\n",
              "            + ' to learn more about interactive tables.';\n",
              "          element.innerHTML = '';\n",
              "          dataTable['output_type'] = 'display_data';\n",
              "          await google.colab.output.renderOutput(dataTable, element);\n",
              "          const docLink = document.createElement('div');\n",
              "          docLink.innerHTML = docLinkHtml;\n",
              "          element.appendChild(docLink);\n",
              "        }\n",
              "      </script>\n",
              "    </div>\n",
              "  </div>\n",
              "  "
            ]
          },
          "metadata": {},
          "execution_count": 766
        }
      ]
    },
    {
      "cell_type": "code",
      "source": [
        "# estatística descritiva\n",
        "\n",
        "df_treino.describe()"
      ],
      "metadata": {
        "colab": {
          "base_uri": "https://localhost:8080/",
          "height": 428
        },
        "id": "z0bYWFwAyLGa",
        "outputId": "987d7b0f-4aea-4c48-e6f6-4905d192f7f7"
      },
      "execution_count": 767,
      "outputs": [
        {
          "output_type": "execute_result",
          "data": {
            "text/plain": [
              "        id_fechou  numero_relacionamentos  numero_relacionamentos_convertidos  \\\n",
              "count  613.000000              613.000000                          613.000000   \n",
              "mean     0.468189                4.538336                            1.939641   \n",
              "std      0.499395                4.806781                            2.927994   \n",
              "min      0.000000                1.000000                            0.000000   \n",
              "25%      0.000000                1.000000                            0.000000   \n",
              "50%      0.000000                3.000000                            1.000000   \n",
              "75%      1.000000                6.000000                            3.000000   \n",
              "max      1.000000               29.000000                           21.000000   \n",
              "\n",
              "       intervalo_tempo          ano  Valor_corrigido2  Concorrentes  \\\n",
              "count       613.000000   613.000000      6.130000e+02    613.000000   \n",
              "mean          4.141713  2020.264274      1.590720e+06      0.055465   \n",
              "std           6.726906     0.550086      2.717742e+06      0.404457   \n",
              "min           0.000000  2019.000000      1.207913e+04      0.000000   \n",
              "25%           0.000000  2020.000000      3.648034e+05      0.000000   \n",
              "50%           1.230000  2020.000000      7.695453e+05      0.000000   \n",
              "75%           5.200000  2021.000000      1.770971e+06      0.000000   \n",
              "max          38.530000  2021.000000      3.311982e+07      7.000000   \n",
              "\n",
              "       n_solucoes    Software  Comissão sobre Parceiros  ...  \\\n",
              "count  613.000000  613.000000                613.000000  ...   \n",
              "mean     1.495922    0.061990                  0.008157  ...   \n",
              "std      1.034724    0.241335                  0.090018  ...   \n",
              "min      1.000000    0.000000                  0.000000  ...   \n",
              "25%      1.000000    0.000000                  0.000000  ...   \n",
              "50%      1.000000    0.000000                  0.000000  ...   \n",
              "75%      2.000000    0.000000                  0.000000  ...   \n",
              "max      7.000000    1.000000                  1.000000  ...   \n",
              "\n",
              "       Processes Excellence  Produtos digitais  S_amp_OP_S_amp_OE  \\\n",
              "count            613.000000         613.000000              613.0   \n",
              "mean               0.200653           0.040783                0.0   \n",
              "std                0.400816           0.197949                0.0   \n",
              "min                0.000000           0.000000                0.0   \n",
              "25%                0.000000           0.000000                0.0   \n",
              "50%                0.000000           0.000000                0.0   \n",
              "75%                0.000000           0.000000                0.0   \n",
              "max                1.000000           1.000000                0.0   \n",
              "\n",
              "       Transformação Digital  Treinamentos  Roadmap  Segmentacao  \\\n",
              "count                  613.0    613.000000    613.0   613.000000   \n",
              "mean                     0.0      0.003263      0.0     1.347471   \n",
              "std                      0.0      0.057073      0.0     1.077843   \n",
              "min                      0.0      0.000000      0.0     0.000000   \n",
              "25%                      0.0      0.000000      0.0     0.000000   \n",
              "50%                      0.0      0.000000      0.0     1.000000   \n",
              "75%                      0.0      0.000000      0.0     2.000000   \n",
              "max                      0.0      1.000000      0.0     4.000000   \n",
              "\n",
              "           Total_HH   Custo_Total  Margem_Total  \n",
              "count    613.000000  6.130000e+02    613.000000  \n",
              "mean     367.975530  5.932371e+05      0.514435  \n",
              "std     1002.074312  1.254958e+06      0.129677  \n",
              "min        1.000000  0.000000e+00     -0.044806  \n",
              "25%       72.000000  1.222153e+05      0.425494  \n",
              "50%      158.000000  2.639269e+05      0.546344  \n",
              "75%      360.000000  6.040820e+05      0.614125  \n",
              "max    16956.000000  2.098455e+07      1.000000  \n",
              "\n",
              "[8 rows x 35 columns]"
            ],
            "text/html": [
              "\n",
              "  <div id=\"df-10e4a073-7f7b-4800-aabb-87816d1100f8\">\n",
              "    <div class=\"colab-df-container\">\n",
              "      <div>\n",
              "<style scoped>\n",
              "    .dataframe tbody tr th:only-of-type {\n",
              "        vertical-align: middle;\n",
              "    }\n",
              "\n",
              "    .dataframe tbody tr th {\n",
              "        vertical-align: top;\n",
              "    }\n",
              "\n",
              "    .dataframe thead th {\n",
              "        text-align: right;\n",
              "    }\n",
              "</style>\n",
              "<table border=\"1\" class=\"dataframe\">\n",
              "  <thead>\n",
              "    <tr style=\"text-align: right;\">\n",
              "      <th></th>\n",
              "      <th>id_fechou</th>\n",
              "      <th>numero_relacionamentos</th>\n",
              "      <th>numero_relacionamentos_convertidos</th>\n",
              "      <th>intervalo_tempo</th>\n",
              "      <th>ano</th>\n",
              "      <th>Valor_corrigido2</th>\n",
              "      <th>Concorrentes</th>\n",
              "      <th>n_solucoes</th>\n",
              "      <th>Software</th>\n",
              "      <th>Comissão sobre Parceiros</th>\n",
              "      <th>...</th>\n",
              "      <th>Processes Excellence</th>\n",
              "      <th>Produtos digitais</th>\n",
              "      <th>S_amp_OP_S_amp_OE</th>\n",
              "      <th>Transformação Digital</th>\n",
              "      <th>Treinamentos</th>\n",
              "      <th>Roadmap</th>\n",
              "      <th>Segmentacao</th>\n",
              "      <th>Total_HH</th>\n",
              "      <th>Custo_Total</th>\n",
              "      <th>Margem_Total</th>\n",
              "    </tr>\n",
              "  </thead>\n",
              "  <tbody>\n",
              "    <tr>\n",
              "      <th>count</th>\n",
              "      <td>613.000000</td>\n",
              "      <td>613.000000</td>\n",
              "      <td>613.000000</td>\n",
              "      <td>613.000000</td>\n",
              "      <td>613.000000</td>\n",
              "      <td>6.130000e+02</td>\n",
              "      <td>613.000000</td>\n",
              "      <td>613.000000</td>\n",
              "      <td>613.000000</td>\n",
              "      <td>613.000000</td>\n",
              "      <td>...</td>\n",
              "      <td>613.000000</td>\n",
              "      <td>613.000000</td>\n",
              "      <td>613.0</td>\n",
              "      <td>613.0</td>\n",
              "      <td>613.000000</td>\n",
              "      <td>613.0</td>\n",
              "      <td>613.000000</td>\n",
              "      <td>613.000000</td>\n",
              "      <td>6.130000e+02</td>\n",
              "      <td>613.000000</td>\n",
              "    </tr>\n",
              "    <tr>\n",
              "      <th>mean</th>\n",
              "      <td>0.468189</td>\n",
              "      <td>4.538336</td>\n",
              "      <td>1.939641</td>\n",
              "      <td>4.141713</td>\n",
              "      <td>2020.264274</td>\n",
              "      <td>1.590720e+06</td>\n",
              "      <td>0.055465</td>\n",
              "      <td>1.495922</td>\n",
              "      <td>0.061990</td>\n",
              "      <td>0.008157</td>\n",
              "      <td>...</td>\n",
              "      <td>0.200653</td>\n",
              "      <td>0.040783</td>\n",
              "      <td>0.0</td>\n",
              "      <td>0.0</td>\n",
              "      <td>0.003263</td>\n",
              "      <td>0.0</td>\n",
              "      <td>1.347471</td>\n",
              "      <td>367.975530</td>\n",
              "      <td>5.932371e+05</td>\n",
              "      <td>0.514435</td>\n",
              "    </tr>\n",
              "    <tr>\n",
              "      <th>std</th>\n",
              "      <td>0.499395</td>\n",
              "      <td>4.806781</td>\n",
              "      <td>2.927994</td>\n",
              "      <td>6.726906</td>\n",
              "      <td>0.550086</td>\n",
              "      <td>2.717742e+06</td>\n",
              "      <td>0.404457</td>\n",
              "      <td>1.034724</td>\n",
              "      <td>0.241335</td>\n",
              "      <td>0.090018</td>\n",
              "      <td>...</td>\n",
              "      <td>0.400816</td>\n",
              "      <td>0.197949</td>\n",
              "      <td>0.0</td>\n",
              "      <td>0.0</td>\n",
              "      <td>0.057073</td>\n",
              "      <td>0.0</td>\n",
              "      <td>1.077843</td>\n",
              "      <td>1002.074312</td>\n",
              "      <td>1.254958e+06</td>\n",
              "      <td>0.129677</td>\n",
              "    </tr>\n",
              "    <tr>\n",
              "      <th>min</th>\n",
              "      <td>0.000000</td>\n",
              "      <td>1.000000</td>\n",
              "      <td>0.000000</td>\n",
              "      <td>0.000000</td>\n",
              "      <td>2019.000000</td>\n",
              "      <td>1.207913e+04</td>\n",
              "      <td>0.000000</td>\n",
              "      <td>1.000000</td>\n",
              "      <td>0.000000</td>\n",
              "      <td>0.000000</td>\n",
              "      <td>...</td>\n",
              "      <td>0.000000</td>\n",
              "      <td>0.000000</td>\n",
              "      <td>0.0</td>\n",
              "      <td>0.0</td>\n",
              "      <td>0.000000</td>\n",
              "      <td>0.0</td>\n",
              "      <td>0.000000</td>\n",
              "      <td>1.000000</td>\n",
              "      <td>0.000000e+00</td>\n",
              "      <td>-0.044806</td>\n",
              "    </tr>\n",
              "    <tr>\n",
              "      <th>25%</th>\n",
              "      <td>0.000000</td>\n",
              "      <td>1.000000</td>\n",
              "      <td>0.000000</td>\n",
              "      <td>0.000000</td>\n",
              "      <td>2020.000000</td>\n",
              "      <td>3.648034e+05</td>\n",
              "      <td>0.000000</td>\n",
              "      <td>1.000000</td>\n",
              "      <td>0.000000</td>\n",
              "      <td>0.000000</td>\n",
              "      <td>...</td>\n",
              "      <td>0.000000</td>\n",
              "      <td>0.000000</td>\n",
              "      <td>0.0</td>\n",
              "      <td>0.0</td>\n",
              "      <td>0.000000</td>\n",
              "      <td>0.0</td>\n",
              "      <td>0.000000</td>\n",
              "      <td>72.000000</td>\n",
              "      <td>1.222153e+05</td>\n",
              "      <td>0.425494</td>\n",
              "    </tr>\n",
              "    <tr>\n",
              "      <th>50%</th>\n",
              "      <td>0.000000</td>\n",
              "      <td>3.000000</td>\n",
              "      <td>1.000000</td>\n",
              "      <td>1.230000</td>\n",
              "      <td>2020.000000</td>\n",
              "      <td>7.695453e+05</td>\n",
              "      <td>0.000000</td>\n",
              "      <td>1.000000</td>\n",
              "      <td>0.000000</td>\n",
              "      <td>0.000000</td>\n",
              "      <td>...</td>\n",
              "      <td>0.000000</td>\n",
              "      <td>0.000000</td>\n",
              "      <td>0.0</td>\n",
              "      <td>0.0</td>\n",
              "      <td>0.000000</td>\n",
              "      <td>0.0</td>\n",
              "      <td>1.000000</td>\n",
              "      <td>158.000000</td>\n",
              "      <td>2.639269e+05</td>\n",
              "      <td>0.546344</td>\n",
              "    </tr>\n",
              "    <tr>\n",
              "      <th>75%</th>\n",
              "      <td>1.000000</td>\n",
              "      <td>6.000000</td>\n",
              "      <td>3.000000</td>\n",
              "      <td>5.200000</td>\n",
              "      <td>2021.000000</td>\n",
              "      <td>1.770971e+06</td>\n",
              "      <td>0.000000</td>\n",
              "      <td>2.000000</td>\n",
              "      <td>0.000000</td>\n",
              "      <td>0.000000</td>\n",
              "      <td>...</td>\n",
              "      <td>0.000000</td>\n",
              "      <td>0.000000</td>\n",
              "      <td>0.0</td>\n",
              "      <td>0.0</td>\n",
              "      <td>0.000000</td>\n",
              "      <td>0.0</td>\n",
              "      <td>2.000000</td>\n",
              "      <td>360.000000</td>\n",
              "      <td>6.040820e+05</td>\n",
              "      <td>0.614125</td>\n",
              "    </tr>\n",
              "    <tr>\n",
              "      <th>max</th>\n",
              "      <td>1.000000</td>\n",
              "      <td>29.000000</td>\n",
              "      <td>21.000000</td>\n",
              "      <td>38.530000</td>\n",
              "      <td>2021.000000</td>\n",
              "      <td>3.311982e+07</td>\n",
              "      <td>7.000000</td>\n",
              "      <td>7.000000</td>\n",
              "      <td>1.000000</td>\n",
              "      <td>1.000000</td>\n",
              "      <td>...</td>\n",
              "      <td>1.000000</td>\n",
              "      <td>1.000000</td>\n",
              "      <td>0.0</td>\n",
              "      <td>0.0</td>\n",
              "      <td>1.000000</td>\n",
              "      <td>0.0</td>\n",
              "      <td>4.000000</td>\n",
              "      <td>16956.000000</td>\n",
              "      <td>2.098455e+07</td>\n",
              "      <td>1.000000</td>\n",
              "    </tr>\n",
              "  </tbody>\n",
              "</table>\n",
              "<p>8 rows × 35 columns</p>\n",
              "</div>\n",
              "      <button class=\"colab-df-convert\" onclick=\"convertToInteractive('df-10e4a073-7f7b-4800-aabb-87816d1100f8')\"\n",
              "              title=\"Convert this dataframe to an interactive table.\"\n",
              "              style=\"display:none;\">\n",
              "        \n",
              "  <svg xmlns=\"http://www.w3.org/2000/svg\" height=\"24px\"viewBox=\"0 0 24 24\"\n",
              "       width=\"24px\">\n",
              "    <path d=\"M0 0h24v24H0V0z\" fill=\"none\"/>\n",
              "    <path d=\"M18.56 5.44l.94 2.06.94-2.06 2.06-.94-2.06-.94-.94-2.06-.94 2.06-2.06.94zm-11 1L8.5 8.5l.94-2.06 2.06-.94-2.06-.94L8.5 2.5l-.94 2.06-2.06.94zm10 10l.94 2.06.94-2.06 2.06-.94-2.06-.94-.94-2.06-.94 2.06-2.06.94z\"/><path d=\"M17.41 7.96l-1.37-1.37c-.4-.4-.92-.59-1.43-.59-.52 0-1.04.2-1.43.59L10.3 9.45l-7.72 7.72c-.78.78-.78 2.05 0 2.83L4 21.41c.39.39.9.59 1.41.59.51 0 1.02-.2 1.41-.59l7.78-7.78 2.81-2.81c.8-.78.8-2.07 0-2.86zM5.41 20L4 18.59l7.72-7.72 1.47 1.35L5.41 20z\"/>\n",
              "  </svg>\n",
              "      </button>\n",
              "      \n",
              "  <style>\n",
              "    .colab-df-container {\n",
              "      display:flex;\n",
              "      flex-wrap:wrap;\n",
              "      gap: 12px;\n",
              "    }\n",
              "\n",
              "    .colab-df-convert {\n",
              "      background-color: #E8F0FE;\n",
              "      border: none;\n",
              "      border-radius: 50%;\n",
              "      cursor: pointer;\n",
              "      display: none;\n",
              "      fill: #1967D2;\n",
              "      height: 32px;\n",
              "      padding: 0 0 0 0;\n",
              "      width: 32px;\n",
              "    }\n",
              "\n",
              "    .colab-df-convert:hover {\n",
              "      background-color: #E2EBFA;\n",
              "      box-shadow: 0px 1px 2px rgba(60, 64, 67, 0.3), 0px 1px 3px 1px rgba(60, 64, 67, 0.15);\n",
              "      fill: #174EA6;\n",
              "    }\n",
              "\n",
              "    [theme=dark] .colab-df-convert {\n",
              "      background-color: #3B4455;\n",
              "      fill: #D2E3FC;\n",
              "    }\n",
              "\n",
              "    [theme=dark] .colab-df-convert:hover {\n",
              "      background-color: #434B5C;\n",
              "      box-shadow: 0px 1px 3px 1px rgba(0, 0, 0, 0.15);\n",
              "      filter: drop-shadow(0px 1px 2px rgba(0, 0, 0, 0.3));\n",
              "      fill: #FFFFFF;\n",
              "    }\n",
              "  </style>\n",
              "\n",
              "      <script>\n",
              "        const buttonEl =\n",
              "          document.querySelector('#df-10e4a073-7f7b-4800-aabb-87816d1100f8 button.colab-df-convert');\n",
              "        buttonEl.style.display =\n",
              "          google.colab.kernel.accessAllowed ? 'block' : 'none';\n",
              "\n",
              "        async function convertToInteractive(key) {\n",
              "          const element = document.querySelector('#df-10e4a073-7f7b-4800-aabb-87816d1100f8');\n",
              "          const dataTable =\n",
              "            await google.colab.kernel.invokeFunction('convertToInteractive',\n",
              "                                                     [key], {});\n",
              "          if (!dataTable) return;\n",
              "\n",
              "          const docLinkHtml = 'Like what you see? Visit the ' +\n",
              "            '<a target=\"_blank\" href=https://colab.research.google.com/notebooks/data_table.ipynb>data table notebook</a>'\n",
              "            + ' to learn more about interactive tables.';\n",
              "          element.innerHTML = '';\n",
              "          dataTable['output_type'] = 'display_data';\n",
              "          await google.colab.output.renderOutput(dataTable, element);\n",
              "          const docLink = document.createElement('div');\n",
              "          docLink.innerHTML = docLinkHtml;\n",
              "          element.appendChild(docLink);\n",
              "        }\n",
              "      </script>\n",
              "    </div>\n",
              "  </div>\n",
              "  "
            ]
          },
          "metadata": {},
          "execution_count": 767
        }
      ]
    },
    {
      "cell_type": "code",
      "source": [
        "# arredondando dados com notação científica de valores quantitativos\n",
        "\n",
        "df_treino.Valor_corrigido2 = df_treino.Valor_corrigido2.astype(int)\n",
        "df_treino.Custo_Total = df_treino.Custo_Total.astype(int)"
      ],
      "metadata": {
        "id": "eSKxe425zyz1"
      },
      "execution_count": 768,
      "outputs": []
    },
    {
      "cell_type": "markdown",
      "source": [
        "## ANÁLISE EXPLORATÓRIA"
      ],
      "metadata": {
        "id": "Sep_wOUknjkA"
      }
    },
    {
      "cell_type": "code",
      "source": [
        "import statistics\n",
        "\n",
        "outliers = []\n",
        "\n",
        "desv_pad = statistics.stdev(df_treino['Custo_Total'])\n",
        "media = statistics.mean(df_treino['Custo_Total'])\n",
        "limite = desv_pad * 3\n",
        "limite_inferior = media - limite\n",
        "limite_superior = media + limite\n",
        "\n",
        "for outlier in df_treino['Custo_Total']:\n",
        "    if outlier > limite_superior or outlier < limite_inferior:\n",
        "        outliers.append(outlier)\n",
        "\n",
        "porct_df_out = len(outliers)/len(df_treino['Custo_Total'])*100\n",
        "\n",
        "print(\"Os outliers são: \", outliers)\n",
        "print(\"Quantidade de outliers: \", len(outliers))\n",
        "print(porct_df_out)"
      ],
      "metadata": {
        "colab": {
          "base_uri": "https://localhost:8080/"
        },
        "id": "lacU13F6ywhm",
        "outputId": "921a1e37-c2ae-4886-c184-ae844469dbc0"
      },
      "execution_count": 769,
      "outputs": [
        {
          "output_type": "stream",
          "name": "stdout",
          "text": [
            "Os outliers são:  [7185637, 5433724, 7970438, 5798274, 7261619, 20984551, 7126644, 6415004, 4682784, 7195425]\n",
            "Quantidade de outliers:  10\n",
            "1.631321370309951\n"
          ]
        }
      ]
    },
    {
      "cell_type": "code",
      "source": [
        "# dropando outliers\n",
        "\n",
        "for i in range(len(outliers)):\n",
        "  x = df_treino.loc[(df_treino['Custo_Total']==outliers[i])].index[0]\n",
        "  df_treino.drop(x, inplace=True)"
      ],
      "metadata": {
        "id": "BZsZEQCMuCQT"
      },
      "execution_count": 770,
      "outputs": []
    },
    {
      "cell_type": "code",
      "source": [
        "import statistics\n",
        "\n",
        "outliers = []\n",
        "\n",
        "desv_pad = statistics.stdev(df_treino['Valor_corrigido2'])\n",
        "media = statistics.mean(df_treino['Valor_corrigido2'])\n",
        "limite = desv_pad * 3\n",
        "limite_inferior = media - limite\n",
        "limite_superior = media + limite\n",
        "\n",
        "for outlier in df_treino['Valor_corrigido2']:\n",
        "    if outlier > limite_superior or outlier < limite_inferior:\n",
        "        outliers.append(outlier)\n",
        "\n",
        "porct_df_out = len(outliers)/len(df_treino['Valor_corrigido2'])*100\n",
        "\n",
        "print(\"Os outliers são: \", outliers)\n",
        "print(\"Quantidade de outliers: \", len(outliers))\n",
        "print(porct_df_out)"
      ],
      "metadata": {
        "colab": {
          "base_uri": "https://localhost:8080/"
        },
        "id": "O2rC2zrhwQvy",
        "outputId": "ebeb2667-bca7-4dac-ca5b-bd0efe7d1aa3"
      },
      "execution_count": 771,
      "outputs": [
        {
          "output_type": "stream",
          "name": "stdout",
          "text": [
            "Os outliers são:  [6446466, 7099619, 8219503, 9585951, 18216599, 7512175, 7473232, 8692812, 6758388, 6321069, 6752804, 8128364, 6249054]\n",
            "Quantidade de outliers:  13\n",
            "2.155887230514096\n"
          ]
        }
      ]
    },
    {
      "cell_type": "code",
      "source": [
        "x = df_treino.loc[(df_treino['Valor_corrigido2']==outliers[0])]\n",
        "x"
      ],
      "metadata": {
        "colab": {
          "base_uri": "https://localhost:8080/",
          "height": 243
        },
        "id": "lXcc9hr_kN1f",
        "outputId": "9fa74260-1a63-4316-d7d3-30ad3d1ee038"
      },
      "execution_count": 772,
      "outputs": [
        {
          "output_type": "execute_result",
          "data": {
            "text/plain": [
              "  Classificacao_da_Oportunidade Faixa_de_Faturamento_Agregado  id_fechou  \\\n",
              "5                     Renovação            Acima de 5 bilhões          1   \n",
              "\n",
              "   numero_relacionamentos  numero_relacionamentos_convertidos  \\\n",
              "5                       5                                   4   \n",
              "\n",
              "   intervalo_tempo   ano  Valor_corrigido2 Forma_de_Contratacao_Agregado  \\\n",
              "5              5.0  2019           6446466                       Publico   \n",
              "\n",
              "   Concorrentes  ...  S_amp_OP_S_amp_OE  Transformação Digital  Treinamentos  \\\n",
              "5             0  ...                  0                      0             0   \n",
              "\n",
              "   Roadmap  Segmentacao                        Carteira_Nova  \\\n",
              "5        0            1  Saúde, Educação e Serviços Públicos   \n",
              "\n",
              "      Segmento_Agregado2  Total_HH  Custo_Total  Margem_Total  \n",
              "5  Administracao Publica    2219.5      2168393       0.51853  \n",
              "\n",
              "[1 rows x 40 columns]"
            ],
            "text/html": [
              "\n",
              "  <div id=\"df-a8e7e60a-2aa0-4a36-8cfc-60d7b76fe62c\">\n",
              "    <div class=\"colab-df-container\">\n",
              "      <div>\n",
              "<style scoped>\n",
              "    .dataframe tbody tr th:only-of-type {\n",
              "        vertical-align: middle;\n",
              "    }\n",
              "\n",
              "    .dataframe tbody tr th {\n",
              "        vertical-align: top;\n",
              "    }\n",
              "\n",
              "    .dataframe thead th {\n",
              "        text-align: right;\n",
              "    }\n",
              "</style>\n",
              "<table border=\"1\" class=\"dataframe\">\n",
              "  <thead>\n",
              "    <tr style=\"text-align: right;\">\n",
              "      <th></th>\n",
              "      <th>Classificacao_da_Oportunidade</th>\n",
              "      <th>Faixa_de_Faturamento_Agregado</th>\n",
              "      <th>id_fechou</th>\n",
              "      <th>numero_relacionamentos</th>\n",
              "      <th>numero_relacionamentos_convertidos</th>\n",
              "      <th>intervalo_tempo</th>\n",
              "      <th>ano</th>\n",
              "      <th>Valor_corrigido2</th>\n",
              "      <th>Forma_de_Contratacao_Agregado</th>\n",
              "      <th>Concorrentes</th>\n",
              "      <th>...</th>\n",
              "      <th>S_amp_OP_S_amp_OE</th>\n",
              "      <th>Transformação Digital</th>\n",
              "      <th>Treinamentos</th>\n",
              "      <th>Roadmap</th>\n",
              "      <th>Segmentacao</th>\n",
              "      <th>Carteira_Nova</th>\n",
              "      <th>Segmento_Agregado2</th>\n",
              "      <th>Total_HH</th>\n",
              "      <th>Custo_Total</th>\n",
              "      <th>Margem_Total</th>\n",
              "    </tr>\n",
              "  </thead>\n",
              "  <tbody>\n",
              "    <tr>\n",
              "      <th>5</th>\n",
              "      <td>Renovação</td>\n",
              "      <td>Acima de 5 bilhões</td>\n",
              "      <td>1</td>\n",
              "      <td>5</td>\n",
              "      <td>4</td>\n",
              "      <td>5.0</td>\n",
              "      <td>2019</td>\n",
              "      <td>6446466</td>\n",
              "      <td>Publico</td>\n",
              "      <td>0</td>\n",
              "      <td>...</td>\n",
              "      <td>0</td>\n",
              "      <td>0</td>\n",
              "      <td>0</td>\n",
              "      <td>0</td>\n",
              "      <td>1</td>\n",
              "      <td>Saúde, Educação e Serviços Públicos</td>\n",
              "      <td>Administracao Publica</td>\n",
              "      <td>2219.5</td>\n",
              "      <td>2168393</td>\n",
              "      <td>0.51853</td>\n",
              "    </tr>\n",
              "  </tbody>\n",
              "</table>\n",
              "<p>1 rows × 40 columns</p>\n",
              "</div>\n",
              "      <button class=\"colab-df-convert\" onclick=\"convertToInteractive('df-a8e7e60a-2aa0-4a36-8cfc-60d7b76fe62c')\"\n",
              "              title=\"Convert this dataframe to an interactive table.\"\n",
              "              style=\"display:none;\">\n",
              "        \n",
              "  <svg xmlns=\"http://www.w3.org/2000/svg\" height=\"24px\"viewBox=\"0 0 24 24\"\n",
              "       width=\"24px\">\n",
              "    <path d=\"M0 0h24v24H0V0z\" fill=\"none\"/>\n",
              "    <path d=\"M18.56 5.44l.94 2.06.94-2.06 2.06-.94-2.06-.94-.94-2.06-.94 2.06-2.06.94zm-11 1L8.5 8.5l.94-2.06 2.06-.94-2.06-.94L8.5 2.5l-.94 2.06-2.06.94zm10 10l.94 2.06.94-2.06 2.06-.94-2.06-.94-.94-2.06-.94 2.06-2.06.94z\"/><path d=\"M17.41 7.96l-1.37-1.37c-.4-.4-.92-.59-1.43-.59-.52 0-1.04.2-1.43.59L10.3 9.45l-7.72 7.72c-.78.78-.78 2.05 0 2.83L4 21.41c.39.39.9.59 1.41.59.51 0 1.02-.2 1.41-.59l7.78-7.78 2.81-2.81c.8-.78.8-2.07 0-2.86zM5.41 20L4 18.59l7.72-7.72 1.47 1.35L5.41 20z\"/>\n",
              "  </svg>\n",
              "      </button>\n",
              "      \n",
              "  <style>\n",
              "    .colab-df-container {\n",
              "      display:flex;\n",
              "      flex-wrap:wrap;\n",
              "      gap: 12px;\n",
              "    }\n",
              "\n",
              "    .colab-df-convert {\n",
              "      background-color: #E8F0FE;\n",
              "      border: none;\n",
              "      border-radius: 50%;\n",
              "      cursor: pointer;\n",
              "      display: none;\n",
              "      fill: #1967D2;\n",
              "      height: 32px;\n",
              "      padding: 0 0 0 0;\n",
              "      width: 32px;\n",
              "    }\n",
              "\n",
              "    .colab-df-convert:hover {\n",
              "      background-color: #E2EBFA;\n",
              "      box-shadow: 0px 1px 2px rgba(60, 64, 67, 0.3), 0px 1px 3px 1px rgba(60, 64, 67, 0.15);\n",
              "      fill: #174EA6;\n",
              "    }\n",
              "\n",
              "    [theme=dark] .colab-df-convert {\n",
              "      background-color: #3B4455;\n",
              "      fill: #D2E3FC;\n",
              "    }\n",
              "\n",
              "    [theme=dark] .colab-df-convert:hover {\n",
              "      background-color: #434B5C;\n",
              "      box-shadow: 0px 1px 3px 1px rgba(0, 0, 0, 0.15);\n",
              "      filter: drop-shadow(0px 1px 2px rgba(0, 0, 0, 0.3));\n",
              "      fill: #FFFFFF;\n",
              "    }\n",
              "  </style>\n",
              "\n",
              "      <script>\n",
              "        const buttonEl =\n",
              "          document.querySelector('#df-a8e7e60a-2aa0-4a36-8cfc-60d7b76fe62c button.colab-df-convert');\n",
              "        buttonEl.style.display =\n",
              "          google.colab.kernel.accessAllowed ? 'block' : 'none';\n",
              "\n",
              "        async function convertToInteractive(key) {\n",
              "          const element = document.querySelector('#df-a8e7e60a-2aa0-4a36-8cfc-60d7b76fe62c');\n",
              "          const dataTable =\n",
              "            await google.colab.kernel.invokeFunction('convertToInteractive',\n",
              "                                                     [key], {});\n",
              "          if (!dataTable) return;\n",
              "\n",
              "          const docLinkHtml = 'Like what you see? Visit the ' +\n",
              "            '<a target=\"_blank\" href=https://colab.research.google.com/notebooks/data_table.ipynb>data table notebook</a>'\n",
              "            + ' to learn more about interactive tables.';\n",
              "          element.innerHTML = '';\n",
              "          dataTable['output_type'] = 'display_data';\n",
              "          await google.colab.output.renderOutput(dataTable, element);\n",
              "          const docLink = document.createElement('div');\n",
              "          docLink.innerHTML = docLinkHtml;\n",
              "          element.appendChild(docLink);\n",
              "        }\n",
              "      </script>\n",
              "    </div>\n",
              "  </div>\n",
              "  "
            ]
          },
          "metadata": {},
          "execution_count": 772
        }
      ]
    },
    {
      "cell_type": "code",
      "source": [
        "# dropando outliers\n",
        "\n",
        "for i in range(1, len(outliers)):\n",
        "  x = df_treino.loc[(df_treino['Valor_corrigido2']==outliers[i])].index[0]\n",
        "  x = int(x)\n",
        "  df_treino.drop(x, inplace=True)"
      ],
      "metadata": {
        "id": "NDERHET1wd2I"
      },
      "execution_count": 773,
      "outputs": []
    },
    {
      "cell_type": "code",
      "source": [
        "# Scatter plot\n",
        "fig, ax = plt.subplots(figsize = (18,10))\n",
        "ax.scatter(df_treino['Custo_Total'], df_treino['Valor_corrigido2'])\n",
        " \n",
        "# x-axis label\n",
        "ax.set_xlabel('Custo_Total')\n",
        " \n",
        "# y-axis label\n",
        "ax.set_ylabel('Valor_corrigido2')\n",
        "plt.show()"
      ],
      "metadata": {
        "colab": {
          "base_uri": "https://localhost:8080/",
          "height": 617
        },
        "id": "EuszXAiov4Ej",
        "outputId": "a363e6b1-f422-4155-b49c-3b49c2feb042"
      },
      "execution_count": 774,
      "outputs": [
        {
          "output_type": "display_data",
          "data": {
            "text/plain": [
              "<Figure size 1296x720 with 1 Axes>"
            ],
            "image/png": "[encoded data removed]"
          },
          "metadata": {
            "needs_background": "light"
          }
        }
      ]
    },
    {
      "cell_type": "code",
      "source": [
        "df_treino.head()"
      ],
      "metadata": {
        "colab": {
          "base_uri": "https://localhost:8080/",
          "height": 369
        },
        "id": "7RUaF0w-vzg0",
        "outputId": "922b7565-c8ee-4e14-f52e-670592b056f7"
      },
      "execution_count": 775,
      "outputs": [
        {
          "output_type": "execute_result",
          "data": {
            "text/plain": [
              "  Classificacao_da_Oportunidade Faixa_de_Faturamento_Agregado  id_fechou  \\\n",
              "0                          Novo         De 60,1 a 300 milhoes          1   \n",
              "1                   Recuperação             De 501 a 1 bilhão          1   \n",
              "2                     Renovação            Acima de 5 bilhões          0   \n",
              "3                          Novo         De 60,1 a 300 milhoes          1   \n",
              "4                     Renovação            Acima de 5 bilhões          1   \n",
              "\n",
              "   numero_relacionamentos  numero_relacionamentos_convertidos  \\\n",
              "0                       1                                   0   \n",
              "1                       2                                   1   \n",
              "2                       8                                   5   \n",
              "3                       1                                   0   \n",
              "4                       6                                   5   \n",
              "\n",
              "   intervalo_tempo   ano  Valor_corrigido2 Forma_de_Contratacao_Agregado  \\\n",
              "0             0.00  2019            503536                  Concorrência   \n",
              "1             2.03  2019            618630              Sem Concorrência   \n",
              "2             6.27  2019           2700288              Sem Concorrência   \n",
              "3             0.00  2019             45803                  Concorrência   \n",
              "4             4.37  2019           4424331              Sem Concorrência   \n",
              "\n",
              "   Concorrentes  ...  S_amp_OP_S_amp_OE  Transformação Digital  Treinamentos  \\\n",
              "0             0  ...                  0                      0             0   \n",
              "1             0  ...                  0                      0             0   \n",
              "2             0  ...                  0                      0             0   \n",
              "3             0  ...                  0                      0             0   \n",
              "4             0  ...                  0                      0             0   \n",
              "\n",
              "   Roadmap  Segmentacao           Carteira_Nova          Segmento_Agregado2  \\\n",
              "0        0            2                Serviços    Telecomunicacoes e Midia   \n",
              "1        0            0           Bens Duráveis                 Demais Ind.   \n",
              "2        0            1                Serviços        Serviços Financeiros   \n",
              "3        0            0       Bens Não Duráveis  Ind de Alimentos e Bebidas   \n",
              "4        0            0  Internacional & Outros      Siderurgia e Mineração   \n",
              "\n",
              "   Total_HH  Custo_Total  Margem_Total  \n",
              "0     115.0       151368      0.567519  \n",
              "1     205.0       183543      0.573154  \n",
              "2     472.0       725715      0.615311  \n",
              "3       4.0        24540      0.233120  \n",
              "4     691.0      1639159      0.545262  \n",
              "\n",
              "[5 rows x 40 columns]"
            ],
            "text/html": [
              "\n",
              "  <div id=\"df-7ec21fc1-aa6b-4546-bcd6-f23b5261170d\">\n",
              "    <div class=\"colab-df-container\">\n",
              "      <div>\n",
              "<style scoped>\n",
              "    .dataframe tbody tr th:only-of-type {\n",
              "        vertical-align: middle;\n",
              "    }\n",
              "\n",
              "    .dataframe tbody tr th {\n",
              "        vertical-align: top;\n",
              "    }\n",
              "\n",
              "    .dataframe thead th {\n",
              "        text-align: right;\n",
              "    }\n",
              "</style>\n",
              "<table border=\"1\" class=\"dataframe\">\n",
              "  <thead>\n",
              "    <tr style=\"text-align: right;\">\n",
              "      <th></th>\n",
              "      <th>Classificacao_da_Oportunidade</th>\n",
              "      <th>Faixa_de_Faturamento_Agregado</th>\n",
              "      <th>id_fechou</th>\n",
              "      <th>numero_relacionamentos</th>\n",
              "      <th>numero_relacionamentos_convertidos</th>\n",
              "      <th>intervalo_tempo</th>\n",
              "      <th>ano</th>\n",
              "      <th>Valor_corrigido2</th>\n",
              "      <th>Forma_de_Contratacao_Agregado</th>\n",
              "      <th>Concorrentes</th>\n",
              "      <th>...</th>\n",
              "      <th>S_amp_OP_S_amp_OE</th>\n",
              "      <th>Transformação Digital</th>\n",
              "      <th>Treinamentos</th>\n",
              "      <th>Roadmap</th>\n",
              "      <th>Segmentacao</th>\n",
              "      <th>Carteira_Nova</th>\n",
              "      <th>Segmento_Agregado2</th>\n",
              "      <th>Total_HH</th>\n",
              "      <th>Custo_Total</th>\n",
              "      <th>Margem_Total</th>\n",
              "    </tr>\n",
              "  </thead>\n",
              "  <tbody>\n",
              "    <tr>\n",
              "      <th>0</th>\n",
              "      <td>Novo</td>\n",
              "      <td>De 60,1 a 300 milhoes</td>\n",
              "      <td>1</td>\n",
              "      <td>1</td>\n",
              "      <td>0</td>\n",
              "      <td>0.00</td>\n",
              "      <td>2019</td>\n",
              "      <td>503536</td>\n",
              "      <td>Concorrência</td>\n",
              "      <td>0</td>\n",
              "      <td>...</td>\n",
              "      <td>0</td>\n",
              "      <td>0</td>\n",
              "      <td>0</td>\n",
              "      <td>0</td>\n",
              "      <td>2</td>\n",
              "      <td>Serviços</td>\n",
              "      <td>Telecomunicacoes e Midia</td>\n",
              "      <td>115.0</td>\n",
              "      <td>151368</td>\n",
              "      <td>0.567519</td>\n",
              "    </tr>\n",
              "    <tr>\n",
              "      <th>1</th>\n",
              "      <td>Recuperação</td>\n",
              "      <td>De 501 a 1 bilhão</td>\n",
              "      <td>1</td>\n",
              "      <td>2</td>\n",
              "      <td>1</td>\n",
              "      <td>2.03</td>\n",
              "      <td>2019</td>\n",
              "      <td>618630</td>\n",
              "      <td>Sem Concorrência</td>\n",
              "      <td>0</td>\n",
              "      <td>...</td>\n",
              "      <td>0</td>\n",
              "      <td>0</td>\n",
              "      <td>0</td>\n",
              "      <td>0</td>\n",
              "      <td>0</td>\n",
              "      <td>Bens Duráveis</td>\n",
              "      <td>Demais Ind.</td>\n",
              "      <td>205.0</td>\n",
              "      <td>183543</td>\n",
              "      <td>0.573154</td>\n",
              "    </tr>\n",
              "    <tr>\n",
              "      <th>2</th>\n",
              "      <td>Renovação</td>\n",
              "      <td>Acima de 5 bilhões</td>\n",
              "      <td>0</td>\n",
              "      <td>8</td>\n",
              "      <td>5</td>\n",
              "      <td>6.27</td>\n",
              "      <td>2019</td>\n",
              "      <td>2700288</td>\n",
              "      <td>Sem Concorrência</td>\n",
              "      <td>0</td>\n",
              "      <td>...</td>\n",
              "      <td>0</td>\n",
              "      <td>0</td>\n",
              "      <td>0</td>\n",
              "      <td>0</td>\n",
              "      <td>1</td>\n",
              "      <td>Serviços</td>\n",
              "      <td>Serviços Financeiros</td>\n",
              "      <td>472.0</td>\n",
              "      <td>725715</td>\n",
              "      <td>0.615311</td>\n",
              "    </tr>\n",
              "    <tr>\n",
              "      <th>3</th>\n",
              "      <td>Novo</td>\n",
              "      <td>De 60,1 a 300 milhoes</td>\n",
              "      <td>1</td>\n",
              "      <td>1</td>\n",
              "      <td>0</td>\n",
              "      <td>0.00</td>\n",
              "      <td>2019</td>\n",
              "      <td>45803</td>\n",
              "      <td>Concorrência</td>\n",
              "      <td>0</td>\n",
              "      <td>...</td>\n",
              "      <td>0</td>\n",
              "      <td>0</td>\n",
              "      <td>0</td>\n",
              "      <td>0</td>\n",
              "      <td>0</td>\n",
              "      <td>Bens Não Duráveis</td>\n",
              "      <td>Ind de Alimentos e Bebidas</td>\n",
              "      <td>4.0</td>\n",
              "      <td>24540</td>\n",
              "      <td>0.233120</td>\n",
              "    </tr>\n",
              "    <tr>\n",
              "      <th>4</th>\n",
              "      <td>Renovação</td>\n",
              "      <td>Acima de 5 bilhões</td>\n",
              "      <td>1</td>\n",
              "      <td>6</td>\n",
              "      <td>5</td>\n",
              "      <td>4.37</td>\n",
              "      <td>2019</td>\n",
              "      <td>4424331</td>\n",
              "      <td>Sem Concorrência</td>\n",
              "      <td>0</td>\n",
              "      <td>...</td>\n",
              "      <td>0</td>\n",
              "      <td>0</td>\n",
              "      <td>0</td>\n",
              "      <td>0</td>\n",
              "      <td>0</td>\n",
              "      <td>Internacional &amp; Outros</td>\n",
              "      <td>Siderurgia e Mineração</td>\n",
              "      <td>691.0</td>\n",
              "      <td>1639159</td>\n",
              "      <td>0.545262</td>\n",
              "    </tr>\n",
              "  </tbody>\n",
              "</table>\n",
              "<p>5 rows × 40 columns</p>\n",
              "</div>\n",
              "      <button class=\"colab-df-convert\" onclick=\"convertToInteractive('df-7ec21fc1-aa6b-4546-bcd6-f23b5261170d')\"\n",
              "              title=\"Convert this dataframe to an interactive table.\"\n",
              "              style=\"display:none;\">\n",
              "        \n",
              "  <svg xmlns=\"http://www.w3.org/2000/svg\" height=\"24px\"viewBox=\"0 0 24 24\"\n",
              "       width=\"24px\">\n",
              "    <path d=\"M0 0h24v24H0V0z\" fill=\"none\"/>\n",
              "    <path d=\"M18.56 5.44l.94 2.06.94-2.06 2.06-.94-2.06-.94-.94-2.06-.94 2.06-2.06.94zm-11 1L8.5 8.5l.94-2.06 2.06-.94-2.06-.94L8.5 2.5l-.94 2.06-2.06.94zm10 10l.94 2.06.94-2.06 2.06-.94-2.06-.94-.94-2.06-.94 2.06-2.06.94z\"/><path d=\"M17.41 7.96l-1.37-1.37c-.4-.4-.92-.59-1.43-.59-.52 0-1.04.2-1.43.59L10.3 9.45l-7.72 7.72c-.78.78-.78 2.05 0 2.83L4 21.41c.39.39.9.59 1.41.59.51 0 1.02-.2 1.41-.59l7.78-7.78 2.81-2.81c.8-.78.8-2.07 0-2.86zM5.41 20L4 18.59l7.72-7.72 1.47 1.35L5.41 20z\"/>\n",
              "  </svg>\n",
              "      </button>\n",
              "      \n",
              "  <style>\n",
              "    .colab-df-container {\n",
              "      display:flex;\n",
              "      flex-wrap:wrap;\n",
              "      gap: 12px;\n",
              "    }\n",
              "\n",
              "    .colab-df-convert {\n",
              "      background-color: #E8F0FE;\n",
              "      border: none;\n",
              "      border-radius: 50%;\n",
              "      cursor: pointer;\n",
              "      display: none;\n",
              "      fill: #1967D2;\n",
              "      height: 32px;\n",
              "      padding: 0 0 0 0;\n",
              "      width: 32px;\n",
              "    }\n",
              "\n",
              "    .colab-df-convert:hover {\n",
              "      background-color: #E2EBFA;\n",
              "      box-shadow: 0px 1px 2px rgba(60, 64, 67, 0.3), 0px 1px 3px 1px rgba(60, 64, 67, 0.15);\n",
              "      fill: #174EA6;\n",
              "    }\n",
              "\n",
              "    [theme=dark] .colab-df-convert {\n",
              "      background-color: #3B4455;\n",
              "      fill: #D2E3FC;\n",
              "    }\n",
              "\n",
              "    [theme=dark] .colab-df-convert:hover {\n",
              "      background-color: #434B5C;\n",
              "      box-shadow: 0px 1px 3px 1px rgba(0, 0, 0, 0.15);\n",
              "      filter: drop-shadow(0px 1px 2px rgba(0, 0, 0, 0.3));\n",
              "      fill: #FFFFFF;\n",
              "    }\n",
              "  </style>\n",
              "\n",
              "      <script>\n",
              "        const buttonEl =\n",
              "          document.querySelector('#df-7ec21fc1-aa6b-4546-bcd6-f23b5261170d button.colab-df-convert');\n",
              "        buttonEl.style.display =\n",
              "          google.colab.kernel.accessAllowed ? 'block' : 'none';\n",
              "\n",
              "        async function convertToInteractive(key) {\n",
              "          const element = document.querySelector('#df-7ec21fc1-aa6b-4546-bcd6-f23b5261170d');\n",
              "          const dataTable =\n",
              "            await google.colab.kernel.invokeFunction('convertToInteractive',\n",
              "                                                     [key], {});\n",
              "          if (!dataTable) return;\n",
              "\n",
              "          const docLinkHtml = 'Like what you see? Visit the ' +\n",
              "            '<a target=\"_blank\" href=https://colab.research.google.com/notebooks/data_table.ipynb>data table notebook</a>'\n",
              "            + ' to learn more about interactive tables.';\n",
              "          element.innerHTML = '';\n",
              "          dataTable['output_type'] = 'display_data';\n",
              "          await google.colab.output.renderOutput(dataTable, element);\n",
              "          const docLink = document.createElement('div');\n",
              "          docLink.innerHTML = docLinkHtml;\n",
              "          element.appendChild(docLink);\n",
              "        }\n",
              "      </script>\n",
              "    </div>\n",
              "  </div>\n",
              "  "
            ]
          },
          "metadata": {},
          "execution_count": 775
        }
      ]
    },
    {
      "cell_type": "markdown",
      "source": [
        "## ONE HOT ENCODING"
      ],
      "metadata": {
        "id": "9hQLVpuPxpGp"
      }
    },
    {
      "cell_type": "code",
      "source": [
        "df_dummie_train = pd.get_dummies(df_treino)"
      ],
      "metadata": {
        "id": "AMw4AYLh3XER"
      },
      "execution_count": 776,
      "outputs": []
    },
    {
      "cell_type": "markdown",
      "source": [
        "## VERIFICANDO MULTICOLINEARIDADE"
      ],
      "metadata": {
        "id": "gcGtsR12ZZwy"
      }
    },
    {
      "cell_type": "code",
      "source": [
        "# variance inflation factor - VIF = 1 (menos mc)    VIF < 5 (mc moderada)    VIF > 5 (mc extrema, evitar sempre)\n",
        "\n",
        "import statsmodels.api as sm\n",
        "\n",
        "def calculate_vif(df):\n",
        "  vif_df = pd.DataFrame(columns= ['Var', 'Vif'])\n",
        "  x_var_names = df.columns\n",
        "\n",
        "  for i in range(0, x_var_names.shape[0]):\n",
        "    y = df[x_var_names[i]]\n",
        "    x = df[x_var_names.drop([x_var_names[i]])]\n",
        "    r_squared = sm.OLS(y, x).fit().rsquared\n",
        "    vif = round(1/(1-r_squared),2)\n",
        "    vif_df.loc[i] = [x_var_names[i], vif]\n",
        "  return vif_df.sort_values(by='Vif', axis=0, ascending=True, inplace=False)"
      ],
      "metadata": {
        "id": "-NIUPDtcZcAU"
      },
      "execution_count": 777,
      "outputs": []
    },
    {
      "cell_type": "code",
      "source": [
        "calculate_vif(df_dummie_train) # não há nenhuma varivável com multicolinearidade"
      ],
      "metadata": {
        "colab": {
          "base_uri": "https://localhost:8080/",
          "height": 423
        },
        "id": "w7OniufNbz3E",
        "outputId": "63961e8f-2b56-451a-a1ba-7be5b825dde8"
      },
      "execution_count": 778,
      "outputs": [
        {
          "output_type": "execute_result",
          "data": {
            "text/plain": [
              "                                          Var   Vif\n",
              "19                            Gestão da Saúde  1.14\n",
              "6                                Concorrentes  1.17\n",
              "10                              Cybersecurity  1.19\n",
              "4                                         ano  1.21\n",
              "12                                        ESG  1.21\n",
              "..                                        ...   ...\n",
              "76  Segmento_Agregado2_Transporte e Logística   inf\n",
              "20                Gestão da Segurança Pública   NaN\n",
              "27                          S_amp_OP_S_amp_OE   NaN\n",
              "28                      Transformação Digital   NaN\n",
              "30                                    Roadmap   NaN\n",
              "\n",
              "[77 rows x 2 columns]"
            ],
            "text/html": [
              "\n",
              "  <div id=\"df-9dfc0c13-c95e-413d-adc4-4139cc538593\">\n",
              "    <div class=\"colab-df-container\">\n",
              "      <div>\n",
              "<style scoped>\n",
              "    .dataframe tbody tr th:only-of-type {\n",
              "        vertical-align: middle;\n",
              "    }\n",
              "\n",
              "    .dataframe tbody tr th {\n",
              "        vertical-align: top;\n",
              "    }\n",
              "\n",
              "    .dataframe thead th {\n",
              "        text-align: right;\n",
              "    }\n",
              "</style>\n",
              "<table border=\"1\" class=\"dataframe\">\n",
              "  <thead>\n",
              "    <tr style=\"text-align: right;\">\n",
              "      <th></th>\n",
              "      <th>Var</th>\n",
              "      <th>Vif</th>\n",
              "    </tr>\n",
              "  </thead>\n",
              "  <tbody>\n",
              "    <tr>\n",
              "      <th>19</th>\n",
              "      <td>Gestão da Saúde</td>\n",
              "      <td>1.14</td>\n",
              "    </tr>\n",
              "    <tr>\n",
              "      <th>6</th>\n",
              "      <td>Concorrentes</td>\n",
              "      <td>1.17</td>\n",
              "    </tr>\n",
              "    <tr>\n",
              "      <th>10</th>\n",
              "      <td>Cybersecurity</td>\n",
              "      <td>1.19</td>\n",
              "    </tr>\n",
              "    <tr>\n",
              "      <th>4</th>\n",
              "      <td>ano</td>\n",
              "      <td>1.21</td>\n",
              "    </tr>\n",
              "    <tr>\n",
              "      <th>12</th>\n",
              "      <td>ESG</td>\n",
              "      <td>1.21</td>\n",
              "    </tr>\n",
              "    <tr>\n",
              "      <th>...</th>\n",
              "      <td>...</td>\n",
              "      <td>...</td>\n",
              "    </tr>\n",
              "    <tr>\n",
              "      <th>76</th>\n",
              "      <td>Segmento_Agregado2_Transporte e Logística</td>\n",
              "      <td>inf</td>\n",
              "    </tr>\n",
              "    <tr>\n",
              "      <th>20</th>\n",
              "      <td>Gestão da Segurança Pública</td>\n",
              "      <td>NaN</td>\n",
              "    </tr>\n",
              "    <tr>\n",
              "      <th>27</th>\n",
              "      <td>S_amp_OP_S_amp_OE</td>\n",
              "      <td>NaN</td>\n",
              "    </tr>\n",
              "    <tr>\n",
              "      <th>28</th>\n",
              "      <td>Transformação Digital</td>\n",
              "      <td>NaN</td>\n",
              "    </tr>\n",
              "    <tr>\n",
              "      <th>30</th>\n",
              "      <td>Roadmap</td>\n",
              "      <td>NaN</td>\n",
              "    </tr>\n",
              "  </tbody>\n",
              "</table>\n",
              "<p>77 rows × 2 columns</p>\n",
              "</div>\n",
              "      <button class=\"colab-df-convert\" onclick=\"convertToInteractive('df-9dfc0c13-c95e-413d-adc4-4139cc538593')\"\n",
              "              title=\"Convert this dataframe to an interactive table.\"\n",
              "              style=\"display:none;\">\n",
              "        \n",
              "  <svg xmlns=\"http://www.w3.org/2000/svg\" height=\"24px\"viewBox=\"0 0 24 24\"\n",
              "       width=\"24px\">\n",
              "    <path d=\"M0 0h24v24H0V0z\" fill=\"none\"/>\n",
              "    <path d=\"M18.56 5.44l.94 2.06.94-2.06 2.06-.94-2.06-.94-.94-2.06-.94 2.06-2.06.94zm-11 1L8.5 8.5l.94-2.06 2.06-.94-2.06-.94L8.5 2.5l-.94 2.06-2.06.94zm10 10l.94 2.06.94-2.06 2.06-.94-2.06-.94-.94-2.06-.94 2.06-2.06.94z\"/><path d=\"M17.41 7.96l-1.37-1.37c-.4-.4-.92-.59-1.43-.59-.52 0-1.04.2-1.43.59L10.3 9.45l-7.72 7.72c-.78.78-.78 2.05 0 2.83L4 21.41c.39.39.9.59 1.41.59.51 0 1.02-.2 1.41-.59l7.78-7.78 2.81-2.81c.8-.78.8-2.07 0-2.86zM5.41 20L4 18.59l7.72-7.72 1.47 1.35L5.41 20z\"/>\n",
              "  </svg>\n",
              "      </button>\n",
              "      \n",
              "  <style>\n",
              "    .colab-df-container {\n",
              "      display:flex;\n",
              "      flex-wrap:wrap;\n",
              "      gap: 12px;\n",
              "    }\n",
              "\n",
              "    .colab-df-convert {\n",
              "      background-color: #E8F0FE;\n",
              "      border: none;\n",
              "      border-radius: 50%;\n",
              "      cursor: pointer;\n",
              "      display: none;\n",
              "      fill: #1967D2;\n",
              "      height: 32px;\n",
              "      padding: 0 0 0 0;\n",
              "      width: 32px;\n",
              "    }\n",
              "\n",
              "    .colab-df-convert:hover {\n",
              "      background-color: #E2EBFA;\n",
              "      box-shadow: 0px 1px 2px rgba(60, 64, 67, 0.3), 0px 1px 3px 1px rgba(60, 64, 67, 0.15);\n",
              "      fill: #174EA6;\n",
              "    }\n",
              "\n",
              "    [theme=dark] .colab-df-convert {\n",
              "      background-color: #3B4455;\n",
              "      fill: #D2E3FC;\n",
              "    }\n",
              "\n",
              "    [theme=dark] .colab-df-convert:hover {\n",
              "      background-color: #434B5C;\n",
              "      box-shadow: 0px 1px 3px 1px rgba(0, 0, 0, 0.15);\n",
              "      filter: drop-shadow(0px 1px 2px rgba(0, 0, 0, 0.3));\n",
              "      fill: #FFFFFF;\n",
              "    }\n",
              "  </style>\n",
              "\n",
              "      <script>\n",
              "        const buttonEl =\n",
              "          document.querySelector('#df-9dfc0c13-c95e-413d-adc4-4139cc538593 button.colab-df-convert');\n",
              "        buttonEl.style.display =\n",
              "          google.colab.kernel.accessAllowed ? 'block' : 'none';\n",
              "\n",
              "        async function convertToInteractive(key) {\n",
              "          const element = document.querySelector('#df-9dfc0c13-c95e-413d-adc4-4139cc538593');\n",
              "          const dataTable =\n",
              "            await google.colab.kernel.invokeFunction('convertToInteractive',\n",
              "                                                     [key], {});\n",
              "          if (!dataTable) return;\n",
              "\n",
              "          const docLinkHtml = 'Like what you see? Visit the ' +\n",
              "            '<a target=\"_blank\" href=https://colab.research.google.com/notebooks/data_table.ipynb>data table notebook</a>'\n",
              "            + ' to learn more about interactive tables.';\n",
              "          element.innerHTML = '';\n",
              "          dataTable['output_type'] = 'display_data';\n",
              "          await google.colab.output.renderOutput(dataTable, element);\n",
              "          const docLink = document.createElement('div');\n",
              "          docLink.innerHTML = docLinkHtml;\n",
              "          element.appendChild(docLink);\n",
              "        }\n",
              "      </script>\n",
              "    </div>\n",
              "  </div>\n",
              "  "
            ]
          },
          "metadata": {},
          "execution_count": 778
        }
      ]
    },
    {
      "cell_type": "markdown",
      "source": [
        "## TREINO E TESTE"
      ],
      "metadata": {
        "id": "QWNCOb9F8kA4"
      }
    },
    {
      "cell_type": "code",
      "source": [
        "X = df_dummie_train.drop(['id_fechou'], axis=1)\n",
        "y = df_dummie_train['id_fechou']"
      ],
      "metadata": {
        "id": "xpU1ZGh1gekU"
      },
      "execution_count": 779,
      "outputs": []
    },
    {
      "cell_type": "code",
      "source": [
        "X_train, x_test, y_train, y_test = model_selection.train_test_split(X, y, test_size=0.3, random_state=0)"
      ],
      "metadata": {
        "id": "1SXUv_8RZ8l9"
      },
      "execution_count": 780,
      "outputs": []
    },
    {
      "cell_type": "code",
      "source": [
        "X_train.shape, x_test.shape"
      ],
      "metadata": {
        "colab": {
          "base_uri": "https://localhost:8080/"
        },
        "id": "1oun8JwQ8lkg",
        "outputId": "c1db9d1f-1a14-47c0-fb3a-837576ab6e82"
      },
      "execution_count": 781,
      "outputs": [
        {
          "output_type": "execute_result",
          "data": {
            "text/plain": [
              "((413, 76), (178, 76))"
            ]
          },
          "metadata": {},
          "execution_count": 781
        }
      ]
    },
    {
      "cell_type": "markdown",
      "source": [
        "## CURVA ROC_AUC DOS MODELOS"
      ],
      "metadata": {
        "id": "xzQLzEdj3qu3"
      }
    },
    {
      "cell_type": "code",
      "source": [
        "# regressão logística \n",
        "\n",
        "def run_logreg(X_train, x_test, y_train, y_test):\n",
        "  lrg = LogisticRegression(random_state=42)\n",
        "  lrg.fit(X_train, y_train)\n",
        "  print(\"Fase de Treinamento\")\n",
        "  pred1 = lrg.predict_proba(X_train)\n",
        "  print(\"Regressão Logística ROC-AUC: {}\".format(roc_auc_score(y_train, pred1[:,1]).round(3)))\n",
        "  print(\"Fase de Teste\")\n",
        "  pred2 = lrg.predict_proba(x_test)\n",
        "  print(\"Regressão Logística ROC-AUC: {}\".format(roc_auc_score(y_test, pred2[:,1]).round(3)))\n",
        "\n",
        "run_logreg(X_train, x_test, y_train, y_test)"
      ],
      "metadata": {
        "colab": {
          "base_uri": "https://localhost:8080/"
        },
        "id": "lEjHMYDf_GMQ",
        "outputId": "e157204d-49d4-489d-da24-a855e62c818c"
      },
      "execution_count": 782,
      "outputs": [
        {
          "output_type": "stream",
          "name": "stdout",
          "text": [
            "Fase de Treinamento\n",
            "Regressão Logística ROC-AUC: 0.553\n",
            "Fase de Teste\n",
            "Regressão Logística ROC-AUC: 0.623\n"
          ]
        }
      ]
    },
    {
      "cell_type": "code",
      "source": [
        "# random forest \n",
        "\n",
        "def run_randomForests(X_train, x_test, y_train, y_test):\n",
        "  rf = RandomForestClassifier(n_estimators=400, random_state=42, max_depth=4)\n",
        "  rf.fit(X_train, y_train)\n",
        "  print(\"Fase de Treinamento\")\n",
        "  pred = rf.predict_proba(X_train)\n",
        "  print(\"Random Forest ROC-AUC: {}\".format(roc_auc_score(y_train, pred[:,1]).round(3)))\n",
        "  print(\"Fase de Teste\")\n",
        "  pred = rf.predict_proba(x_test)\n",
        "  print(\"Random Forest ROC-AUC: {}\".format(roc_auc_score(y_test, pred[:,1]).round(3)))"
      ],
      "metadata": {
        "id": "x4cq8WKmZP9N"
      },
      "execution_count": 783,
      "outputs": []
    },
    {
      "cell_type": "code",
      "source": [
        "run_randomForests(X_train, x_test, y_train, y_test)"
      ],
      "metadata": {
        "colab": {
          "base_uri": "https://localhost:8080/"
        },
        "id": "0H5Qagw9ccgT",
        "outputId": "423fd926-264f-4469-f0dd-38154acd1b6a"
      },
      "execution_count": 784,
      "outputs": [
        {
          "output_type": "stream",
          "name": "stdout",
          "text": [
            "Fase de Treinamento\n",
            "Random Forest ROC-AUC: 0.889\n",
            "Fase de Teste\n",
            "Random Forest ROC-AUC: 0.721\n"
          ]
        }
      ]
    },
    {
      "cell_type": "code",
      "source": [
        "# xgboost \n",
        "\n",
        "def run_xgb(X_train, x_test, y_train, y_test):\n",
        "  xgb_model = XGBClassifier(random_state=44, max_depth=2)\n",
        "  xgb_model.fit(X_train, y_train)\n",
        "  print(\"Fase de Treinamento\")\n",
        "  pred1 = xgb_model.predict_proba(X_train)\n",
        "  print(\"XGBoost ROC-AUC: {}\".format(roc_auc_score(y_train, pred1[:,1]).round(3)))\n",
        "  print(\"Fase de Teste\")\n",
        "  pred2 = xgb_model.predict_proba(x_test)\n",
        "  print(\"XGBoost ROC-AUC: {}\".format(roc_auc_score(y_test, pred2[:,1]).round(3)))"
      ],
      "metadata": {
        "id": "UyKvN79F3sp-"
      },
      "execution_count": 785,
      "outputs": []
    },
    {
      "cell_type": "code",
      "source": [
        "run_xgb(X_train, x_test, y_train, y_test)"
      ],
      "metadata": {
        "colab": {
          "base_uri": "https://localhost:8080/"
        },
        "id": "yq51J47v9ZuJ",
        "outputId": "0552d5f9-058a-4098-a9df-1aa967534bb5"
      },
      "execution_count": 786,
      "outputs": [
        {
          "output_type": "stream",
          "name": "stdout",
          "text": [
            "Fase de Treinamento\n",
            "XGBoost ROC-AUC: 0.93\n",
            "Fase de Teste\n",
            "XGBoost ROC-AUC: 0.75\n"
          ]
        }
      ]
    },
    {
      "cell_type": "code",
      "source": [
        "xgb = XGBClassifier(learning_rate =0.1,\n",
        " n_estimators=1000,\n",
        " max_depth=6,\n",
        " min_child_weight=1,\n",
        " gamma=0,\n",
        " subsample=0.8,\n",
        " colsample_bytree=0.8,\n",
        " nthread=4,\n",
        " scale_pos_weight=1.0,\n",
        " seed=27)\n",
        "\n",
        "xgb.fit(X_train, y_train)\n",
        "preditos_xgb = xgb.predict(x_test)\n",
        "\n",
        "from sklearn.metrics import classification_report, confusion_matrix\n",
        "print(classification_report(y_test, preditos_xgb))"
      ],
      "metadata": {
        "colab": {
          "base_uri": "https://localhost:8080/"
        },
        "id": "6wjaBVH7S2Xy",
        "outputId": "17e314b6-fdb3-41a8-b8aa-023966c4e7be"
      },
      "execution_count": 787,
      "outputs": [
        {
          "output_type": "stream",
          "name": "stdout",
          "text": [
            "              precision    recall  f1-score   support\n",
            "\n",
            "           0       0.71      0.72      0.72        93\n",
            "           1       0.69      0.68      0.69        85\n",
            "\n",
            "    accuracy                           0.70       178\n",
            "   macro avg       0.70      0.70      0.70       178\n",
            "weighted avg       0.70      0.70      0.70       178\n",
            "\n"
          ]
        }
      ]
    },
    {
      "cell_type": "code",
      "source": [
        "import matplotlib.pyplot as plt \n",
        "from xgboost import plot_importance\n",
        "fig, ax = plt.subplots(figsize=(10,8))\n",
        "plot_importance(xgb, ax=ax)"
      ],
      "metadata": {
        "colab": {
          "base_uri": "https://localhost:8080/",
          "height": 531
        },
        "id": "OSiQd6kmUEEW",
        "outputId": "4cb1122d-afdc-4130-8396-2fbda7b5d5b7"
      },
      "execution_count": 788,
      "outputs": [
        {
          "output_type": "execute_result",
          "data": {
            "text/plain": [
              "<matplotlib.axes._subplots.AxesSubplot at 0x7eff2e700d90>"
            ]
          },
          "metadata": {},
          "execution_count": 788
        },
        {
          "output_type": "display_data",
          "data": {
            "text/plain": [
              "<Figure size 720x576 with 1 Axes>"
            ],
            "image/png": "[encoded data removed]"
          },
          "metadata": {
            "needs_background": "light"
          }
        }
      ]
    },
    {
      "cell_type": "markdown",
      "source": [
        "## DIFERENTES HIPERPARÂMETROS"
      ],
      "metadata": {
        "id": "YIR9v_HCnDxV"
      }
    },
    {
      "cell_type": "code",
      "source": [
        "max_depth = [3, 2, 4]\n",
        "\n",
        "model_log = LogisticRegression(solver='liblinear')\n",
        "model_rand = RandomForestClassifier(n_estimators=100)\n",
        "model_xgb = XGBClassifier()\n",
        "\n",
        "cv = StratifiedKFold(n_splits = 5, shuffle = True)\n",
        "model = XGBClassifier()\n",
        "results = cross_val_score(model_xgb, X_train, y_train, cv = cv, scoring = 'accuracy')\n",
        "mean = results.mean()\n",
        "dv = results.std()\n",
        "\n",
        "print('Acurácia média - Max Depth {}: {:.2f}%'.format(dv, mean*100))\n",
        "print('Intervalo de acurácia - Max Depth {}: [{:.2f}% ~ {:.2f}%]\\n'.format(dv, (mean - 2*dv)*100, (mean + 2*dv)*100))"
      ],
      "metadata": {
        "colab": {
          "base_uri": "https://localhost:8080/"
        },
        "id": "cIqGMODHnGnv",
        "outputId": "fc2032a2-1d4a-4c52-92a0-3a0415bcaa4c"
      },
      "execution_count": 789,
      "outputs": [
        {
          "output_type": "stream",
          "name": "stdout",
          "text": [
            "Acurácia média - Max Depth 0.01890964277774961: 68.03%\n",
            "Intervalo de acurácia - Max Depth 0.01890964277774961: [64.25% ~ 71.82%]\n",
            "\n"
          ]
        }
      ]
    },
    {
      "cell_type": "markdown",
      "source": [
        "## VERIFICANDO ACURÁCIAS"
      ],
      "metadata": {
        "id": "gNljfGRogei7"
      }
    },
    {
      "cell_type": "code",
      "source": [
        "cv = StratifiedKFold(n_splits = 5, shuffle = True)\n",
        "\n",
        "model_log = LogisticRegression(solver='liblinear')\n",
        "model_rand = RandomForestClassifier(n_estimators=100)\n",
        "model_xgb = XGBClassifier()\n",
        "\n",
        "models = [model_log, model_rand, model_xgb]\n",
        "\n",
        "name = ['Regressão Logística', 'Random Forest', 'XGBoost']\n",
        "\n",
        "count = 0\n",
        "\n",
        "for item in models:\n",
        "    results = cross_val_score(item, X_train, y_train, cv = cv, \n",
        "                              scoring = 'accuracy')\n",
        "    mean = results.mean()\n",
        "    dv = results.std()\n",
        "    print('Acurácia média - Modelo {}: {:.2f}%'.format(name[count], mean*100))\n",
        "    print('Intervalo de acurácia - Modelo {}: [{:.2f}% ~ {:.2f}%]\\n'.format(name[count], (mean - 2*dv)*100, (mean + 2*dv)*100))\n",
        "    count += 1"
      ],
      "metadata": {
        "colab": {
          "base_uri": "https://localhost:8080/"
        },
        "id": "OHwa09AUghEY",
        "outputId": "8760a9fc-1db3-4a4b-96fd-e569bd437867"
      },
      "execution_count": 790,
      "outputs": [
        {
          "output_type": "stream",
          "name": "stdout",
          "text": [
            "Acurácia média - Modelo Regressão Logística: 58.86%\n",
            "Intervalo de acurácia - Modelo Regressão Logística: [50.57% ~ 67.14%]\n",
            "\n",
            "Acurácia média - Modelo Random Forest: 70.71%\n",
            "Intervalo de acurácia - Modelo Random Forest: [63.16% ~ 78.26%]\n",
            "\n",
            "Acurácia média - Modelo XGBoost: 71.19%\n",
            "Intervalo de acurácia - Modelo XGBoost: [63.63% ~ 78.74%]\n",
            "\n"
          ]
        }
      ]
    },
    {
      "cell_type": "markdown",
      "source": [
        "## PRECISÃO\n",
        "\n",
        "Podemos definir a precisão de um modelo de Machine Learning como a proporção de predições corretas de uma categoria em relação a todas as previsões feitas dessa categoria. As previsões corretas da categoria alvo são chamadas de Verdadeiros Positivos (true positive — TP), e as previsões incorretas para a categoria alvo são chamada de Falsos Positivos (false positive — FP). No nosso caso, um verdadeiro positivo é uma situção onde o modelo previu que o paciente tinha uma doença cardíaca e ele realmente tinha, enquando um falso positivo é uma situação onde o modelo previu que o paciente tinha doença cardíaca mas na verdade ele era saudável."
      ],
      "metadata": {
        "id": "MIo5NxeJmXq4"
      }
    },
    {
      "cell_type": "code",
      "source": [
        "def intervalo_prec(results):\n",
        "    mean = results.mean()\n",
        "    dv = results.std()\n",
        "    print('Precisão média: {:.2f}%'.format(mean*100))\n",
        "    print('Intervalo de Precisão: [{:.2f}% ~ {:.2f}%]'\n",
        "          .format((mean - 2*dv)*100, (mean + 2*dv)*100))\n",
        "\n",
        "cv = StratifiedKFold(n_splits = 5, shuffle = True)\n",
        "\n",
        "model = LogisticRegression(solver='liblinear')\n",
        "\n",
        "results = cross_val_score(model, X_train, y_train, cv = cv, \n",
        "                          scoring = 'precision')\n",
        "intervalo_prec(results)"
      ],
      "metadata": {
        "colab": {
          "base_uri": "https://localhost:8080/"
        },
        "id": "13LZEuxcmZUK",
        "outputId": "6c9a73de-d5fe-440a-fdc9-ac1603201fd0"
      },
      "execution_count": 791,
      "outputs": [
        {
          "output_type": "stream",
          "name": "stdout",
          "text": [
            "Precisão média: 64.80%\n",
            "Intervalo de Precisão: [37.20% ~ 92.41%]\n"
          ]
        }
      ]
    },
    {
      "cell_type": "markdown",
      "source": [
        "## RECALL\n",
        "\n",
        "A medida de recall de um modelo de Machine Learning é definido como a proporção de previsões corretas da categoria alvo, Verdadeiros Positivos em relação a soma dos verdadeiros positivos com os Falsos Negativos (false negativo — FN). Falsos negativos são os casos da categoria alvo que seu modelo previu como se fosse da categoria 0.\n",
        "\n"
      ],
      "metadata": {
        "id": "gOkzkOXymprY"
      }
    },
    {
      "cell_type": "code",
      "source": [
        "def intervalo_recall(results):\n",
        "    mean = results.mean()\n",
        "    dv = results.std()\n",
        "    print('Recall médio: {:.2f}%'.format(mean*100))\n",
        "    print('Intervalo de Recall: [{:.2f}% ~ {:.2f}%]'\n",
        "          .format((mean - 2*dv)*100, (mean + 2*dv)*100))\n",
        "\n",
        "cv = StratifiedKFold(n_splits = 5, shuffle = True)\n",
        "\n",
        "model = LogisticRegression(solver='liblinear')\n",
        "results = cross_val_score(model, X_train, y_train, cv = cv, scoring = 'recall')\n",
        "\n",
        "intervalo_recall(results)"
      ],
      "metadata": {
        "colab": {
          "base_uri": "https://localhost:8080/"
        },
        "id": "p9-_ILXemrMP",
        "outputId": "14c64d49-8804-449b-f899-85e0c013d2c5"
      },
      "execution_count": 792,
      "outputs": [
        {
          "output_type": "stream",
          "name": "stdout",
          "text": [
            "Recall médio: 28.76%\n",
            "Intervalo de Recall: [6.44% ~ 51.08%]\n"
          ]
        }
      ]
    },
    {
      "cell_type": "markdown",
      "source": [
        "## DEPLOY"
      ],
      "metadata": {
        "id": "j76DFw-vF_PA"
      }
    },
    {
      "cell_type": "code",
      "source": [
        "# instânciando os dfs\n",
        "\n",
        "df_teste = pd.read_csv('/content/sample_data/dados_teste_hackaton.csv', encoding=\"ISO-8859-1\")\n",
        "df_treino = pd.read_csv('/content/sample_data/dados_treino_hackaton.csv', encoding=\"ISO-8859-1\")"
      ],
      "metadata": {
        "id": "j1R1V9POxirS"
      },
      "execution_count": 827,
      "outputs": []
    },
    {
      "cell_type": "code",
      "source": [
        "# tratamento\n",
        "\n",
        "df_teste.rename(columns={'ComissÃ£o sobre Parceiros': 'Comissao sobre Parceiros',\n",
        "                                         'EquilÃ­brio fiscal': 'Equilibrio fiscal',\n",
        "                                         'GestÃ£o EstratÃ©gica': 'Gestao Estrategica',\n",
        "                                         'GestÃ£o da OperaÃ§Ã£o': 'Gestao da Operação',\n",
        "                                         'GestÃ£o da Receita': 'Gestao da Receita',\n",
        "                                         'GestÃ£o da SaÃºde': 'Gestao da Saúde',\n",
        "                                         'GestÃ£o da SeguranÃ§a PÃºblica': 'Gestao da Segurança Publica',\n",
        "                                         'GestÃ£o da SeguranÃ§a ViÃ¡ria': 'Gestão da Segurança Viaria',\n",
        "                                         'GestÃ£o de Gastos': 'Gestao de Gastos',\n",
        "                                         'GestÃ£o de operaÃ§Ãµes projetizadas': 'Gestao de operações projetizadas',\n",
        "                                         'GestÃ£o de pessoas': 'Gestao de pessoas',\n",
        "                                         'TransformaÃ§Ã£o Digital': 'Transformacao Digital'}, inplace = True)\n",
        "\n",
        "df_treino.drop(columns=['Unnamed: 0', 'Codigo_da_oportunidade', 'ID_cliente', 'Data_de_criacao', 'Data_Real_de_Encerramento_da_Opp2'], inplace=True)\n",
        "df_treino['Valor_corrigido2'] = df_treino['Valor_corrigido2'].round(2)\n",
        "df_treino = df_treino.replace(np.nan, 0)\n",
        "df_treino.Valor_corrigido2 = df_treino.Valor_corrigido2.astype(int)\n",
        "df_treino.Custo_Total = df_treino.Custo_Total.astype(int)\n",
        "\n",
        "df_teste.drop(columns=['Unnamed: 0', 'ID_cliente', 'Data_de_criacao', 'Codigo_da_oportunidade', 'Data_Real_de_Encerramento_da_Opp2'], inplace=True)\n",
        "\n",
        "df_teste.Valor_corrigido2 = df_treino.Valor_corrigido2.astype(float)\n",
        "df_teste.Custo_Total = df_treino.Custo_Total.astype(float)\n",
        "df_teste.Margem_Total = df_treino.Margem_Total.astype(float)\n",
        "\n",
        "df_dummie_train = pd.get_dummies(df_treino)\n",
        "df_dummie_teste = pd.get_dummies(df_teste)\n",
        "\n",
        "X = df_dummie_train.drop(['id_fechou'], axis=1)\n",
        "y = df_dummie_train['id_fechou']\n",
        "\n",
        "# treino e teste\n",
        "\n",
        "X_train, x_test, y_train, y_test = model_selection.train_test_split(X, y, test_size=0.3, random_state=1)\n",
        "\n",
        "# rf\n",
        "\n",
        "rf = RandomForestClassifier(n_estimators = 1000, random_state = 42)  \n",
        "rf.fit (X_train, y_train); # Treine o modelo nos dados de treinamento\n",
        "preditos_rf = rf.predict(x_test)\n",
        "\n",
        "# modelo xgboost\n",
        "xgb = XGBClassifier(learning_rate =0.1,\n",
        "                                n_estimators=1000,\n",
        "                                max_depth=6,\n",
        "                                min_child_weight=1,\n",
        "                                gamma=0,\n",
        "                                subsample=0.8,\n",
        "                                colsample_bytree=0.8,\n",
        "                                nthread=4,\n",
        "                                scale_pos_weight=1.0,\n",
        "                                seed=27)\n",
        "            \n",
        "xgb.fit(X_train, y_train)\n",
        "preditos_xgb = xgb.predict(df_dummie_teste)  # aqui a gente não soube como passar o df que seria previsto como parametro do modelo"
      ],
      "metadata": {
        "colab": {
          "base_uri": "https://localhost:8080/",
          "height": 780
        },
        "id": "_WLdViXnv0s1",
        "outputId": "9c66e32b-f3bf-4198-f04b-78b18772b7c1"
      },
      "execution_count": 828,
      "outputs": [
        {
          "output_type": "error",
          "ename": "ValueError",
          "evalue": "ignored",
          "traceback": [
            "\u001b[0;31m---------------------------------------------------------------------------\u001b[0m",
            "\u001b[0;31mValueError\u001b[0m                                Traceback (most recent call last)",
            "\u001b[0;32m<ipython-input-828-f8a333728b5f>\u001b[0m in \u001b[0;36m<module>\u001b[0;34m\u001b[0m\n\u001b[1;32m     55\u001b[0m \u001b[0;34m\u001b[0m\u001b[0m\n\u001b[1;32m     56\u001b[0m \u001b[0mxgb\u001b[0m\u001b[0;34m.\u001b[0m\u001b[0mfit\u001b[0m\u001b[0;34m(\u001b[0m\u001b[0mX_train\u001b[0m\u001b[0;34m,\u001b[0m \u001b[0my_train\u001b[0m\u001b[0;34m)\u001b[0m\u001b[0;34m\u001b[0m\u001b[0;34m\u001b[0m\u001b[0m\n\u001b[0;32m---> 57\u001b[0;31m \u001b[0mpreditos_xgb\u001b[0m \u001b[0;34m=\u001b[0m \u001b[0mxgb\u001b[0m\u001b[0;34m.\u001b[0m\u001b[0mpredict\u001b[0m\u001b[0;34m(\u001b[0m\u001b[0mdf_dummie_teste\u001b[0m\u001b[0;34m)\u001b[0m\u001b[0;34m\u001b[0m\u001b[0;34m\u001b[0m\u001b[0m\n\u001b[0m",
            "\u001b[0;32m/usr/local/lib/python3.7/dist-packages/xgboost/sklearn.py\u001b[0m in \u001b[0;36mpredict\u001b[0;34m(self, data, output_margin, ntree_limit, validate_features)\u001b[0m\n\u001b[1;32m    789\u001b[0m                                                  \u001b[0moutput_margin\u001b[0m\u001b[0;34m=\u001b[0m\u001b[0moutput_margin\u001b[0m\u001b[0;34m,\u001b[0m\u001b[0;34m\u001b[0m\u001b[0;34m\u001b[0m\u001b[0m\n\u001b[1;32m    790\u001b[0m                                                  \u001b[0mntree_limit\u001b[0m\u001b[0;34m=\u001b[0m\u001b[0mntree_limit\u001b[0m\u001b[0;34m,\u001b[0m\u001b[0;34m\u001b[0m\u001b[0;34m\u001b[0m\u001b[0m\n\u001b[0;32m--> 791\u001b[0;31m                                                  validate_features=validate_features)\n\u001b[0m\u001b[1;32m    792\u001b[0m         \u001b[0;32mif\u001b[0m \u001b[0moutput_margin\u001b[0m\u001b[0;34m:\u001b[0m\u001b[0;34m\u001b[0m\u001b[0;34m\u001b[0m\u001b[0m\n\u001b[1;32m    793\u001b[0m             \u001b[0;31m# If output_margin is active, simply return the scores\u001b[0m\u001b[0;34m\u001b[0m\u001b[0;34m\u001b[0m\u001b[0;34m\u001b[0m\u001b[0m\n",
            "\u001b[0;32m/usr/local/lib/python3.7/dist-packages/xgboost/core.py\u001b[0m in \u001b[0;36mpredict\u001b[0;34m(self, data, output_margin, ntree_limit, pred_leaf, pred_contribs, approx_contribs, pred_interactions, validate_features)\u001b[0m\n\u001b[1;32m   1282\u001b[0m \u001b[0;34m\u001b[0m\u001b[0m\n\u001b[1;32m   1283\u001b[0m         \u001b[0;32mif\u001b[0m \u001b[0mvalidate_features\u001b[0m\u001b[0;34m:\u001b[0m\u001b[0;34m\u001b[0m\u001b[0;34m\u001b[0m\u001b[0m\n\u001b[0;32m-> 1284\u001b[0;31m             \u001b[0mself\u001b[0m\u001b[0;34m.\u001b[0m\u001b[0m_validate_features\u001b[0m\u001b[0;34m(\u001b[0m\u001b[0mdata\u001b[0m\u001b[0;34m)\u001b[0m\u001b[0;34m\u001b[0m\u001b[0;34m\u001b[0m\u001b[0m\n\u001b[0m\u001b[1;32m   1285\u001b[0m \u001b[0;34m\u001b[0m\u001b[0m\n\u001b[1;32m   1286\u001b[0m         \u001b[0mlength\u001b[0m \u001b[0;34m=\u001b[0m \u001b[0mc_bst_ulong\u001b[0m\u001b[0;34m(\u001b[0m\u001b[0;34m)\u001b[0m\u001b[0;34m\u001b[0m\u001b[0;34m\u001b[0m\u001b[0m\n",
            "\u001b[0;32m/usr/local/lib/python3.7/dist-packages/xgboost/core.py\u001b[0m in \u001b[0;36m_validate_features\u001b[0;34m(self, data)\u001b[0m\n\u001b[1;32m   1688\u001b[0m \u001b[0;34m\u001b[0m\u001b[0m\n\u001b[1;32m   1689\u001b[0m                 raise ValueError(msg.format(self.feature_names,\n\u001b[0;32m-> 1690\u001b[0;31m                                             data.feature_names))\n\u001b[0m\u001b[1;32m   1691\u001b[0m \u001b[0;34m\u001b[0m\u001b[0m\n\u001b[1;32m   1692\u001b[0m     \u001b[0;32mdef\u001b[0m \u001b[0mget_split_value_histogram\u001b[0m\u001b[0;34m(\u001b[0m\u001b[0mself\u001b[0m\u001b[0;34m,\u001b[0m \u001b[0mfeature\u001b[0m\u001b[0;34m,\u001b[0m \u001b[0mfmap\u001b[0m\u001b[0;34m=\u001b[0m\u001b[0;34m''\u001b[0m\u001b[0;34m,\u001b[0m \u001b[0mbins\u001b[0m\u001b[0;34m=\u001b[0m\u001b[0;32mNone\u001b[0m\u001b[0;34m,\u001b[0m \u001b[0mas_pandas\u001b[0m\u001b[0;34m=\u001b[0m\u001b[0;32mTrue\u001b[0m\u001b[0;34m)\u001b[0m\u001b[0;34m:\u001b[0m\u001b[0;34m\u001b[0m\u001b[0;34m\u001b[0m\u001b[0m\n",
            "\u001b[0;31mValueError\u001b[0m: feature_names mismatch: ['numero_relacionamentos', 'numero_relacionamentos_convertidos', 'intervalo_tempo', 'ano', 'Valor_corrigido2', 'Concorrentes', 'n_solucoes', 'Software', 'Comissão sobre Parceiros', 'Cybersecurity', 'Desdobramento de metas', 'ESG', 'Equilíbrio fiscal', 'Skill_dev', 'Gestão Estratégica', 'Gestão da Educação', 'Gestão da Operação', 'Gestão da Receita', 'Gestão da Saúde', 'Gestão da Segurança Pública', 'Gestão da Segurança Viária', 'Gestão de Gastos', 'Gestão de operações projetizadas', 'Gestão de pessoas', 'Processes Excellence', 'Produtos digitais', 'S_amp_OP_S_amp_OE', 'Transformação Digital', 'Treinamentos', 'Roadmap', 'Segmentacao', 'Total_HH', 'Custo_Total', 'Margem_Total', 'Classificacao_da_Oportunidade_Novo', 'Classificacao_da_Oportunidade_Recuperação', 'Classificacao_da_Oportunidade_Renovação', 'Faixa_de_Faturamento_Agregado_Acima de 5 bilhões', 'Faixa_de_Faturamento_Agregado_Até 15 milhões de faturamento', 'Faixa_de_Faturamento_Agregado_De 1 a 5 bilhões', 'Faixa_de_Faturamento_Agregado_De 15,1 a 60 milhões', 'Faixa_de_Faturamento_Agregado_De 301 a 500 milhões', 'Faixa_de_Faturamento_Agregado_De 501 a 1 bilhão', 'Faixa_de_Faturamento_Agregado_De 60,1 a 300 milhoes', 'Forma_de_Contratacao_Agregado_Concorrência', 'Forma_de_Contratacao_Agregado_Publico', 'Forma_de_Contratacao_Agregado_RFP', 'Forma_de_Contratacao_Agregado_Sem Concorrência', 'Carteira_Nova_Bens Duráveis', 'Carteira_Nova_Bens Não Duráveis', 'Carteira_Nova_Infra...\nexpected Gestão da Segurança Pública, Carteira_Nova_Bens Duráveis, Carteira_Nova_Saúde, Educação e Serviços Públicos, Segmento_Agregado2_Agronegócio, Segmento_Agregado2_Serviços Financeiros, Gestão da Saúde, Gestão da Receita, Gestão Estratégica, Segmento_Agregado2_Ensino/Educação, Classificacao_da_Oportunidade_Recuperação, Carteira_Nova_Infraestrutura e Indústria de Base, Segmento_Agregado2_Associações Fed. Fundações e Entidades De Classe, Faixa_de_Faturamento_Agregado_De 301 a 500 milhões, Gestão da Operação, Segmento_Agregado2_Transporte e Logística, Segmento_Agregado2_Incorporação e Construção, Segmento_Agregado2_Serviços Médicos, Gestão da Educação, Classificacao_da_Oportunidade_Renovação, Faixa_de_Faturamento_Agregado_De 1 a 5 bilhões, Gestão de pessoas, Gestão de Gastos, Transformação Digital, Carteira_Nova_Bens Não Duráveis, Segmento_Agregado2_Petróleo e Gás, Segmento_Agregado2_Químico Petroquímico e Embalagens, Segmento_Agregado2_Comércio de Alimentos e Bebidas, Gestão de operações projetizadas, Faixa_de_Faturamento_Agregado_Acima de 5 bilhões, Forma_de_Contratacao_Agregado_Concorrência, Segmento_Agregado2_Siderurgia e Mineração, Segmento_Agregado2_Ind. Farmacêutica, Gestão da Segurança Viária, Faixa_de_Faturamento_Agregado_De 15,1 a 60 milhões, Equilíbrio fiscal, Comissão sobre Parceiros, Faixa_de_Faturamento_Agregado_Até 15 milhões de faturamento, Faixa_de_Faturamento_Agregado_De 501 a 1 bilhão, Forma_de_Contratacao_Agregado_Sem Concorrência, Carteira_Nova_Servi...\ntraining data did not have the following fields: Forma_de_Contratacao_Agregado_ConcorrÃªncia, Transformacao Digital, Equilibrio fiscal, Gestao da Receita, Faixa_de_Faturamento_Agregado_De 1 a 5 bilhÃµes, Segmento_Agregado2_QuÃ­mico PetroquÃ­mico e Embalagens, Segmento_Agregado2_PetrÃ³leo e GÃ¡s, Gestão da Segurança Viaria, Segmento_Agregado2_Transporte e LogÃ­stica, Carteira_Nova_SaÃºde, EducaÃ§Ã£o e ServiÃ§os PÃºblicos, Faixa_de_Faturamento_Agregado_De 301 a 500 milhÃµes, Segmento_Agregado2_Siderurgia e MineraÃ§Ã£o, Segmento_Agregado2_Ensino/EducaÃ§Ã£o, Gestao de Gastos, Carteira_Nova_Bens DurÃ¡veis, Segmento_Agregado2_IncorporaÃ§Ã£o e ConstruÃ§Ã£o, Segmento_Agregado2_ServiÃ§os Financeiros, Faixa_de_Faturamento_Agregado_De 501 a 1 bilhÃ£o, Segmento_Agregado2_ServiÃ§os MÃ©dicos, Faixa_de_Faturamento_Agregado_De 15,1 a 60 milhÃµes, Gestao da Saúde, Forma_de_Contratacao_Agregado_Sem ConcorrÃªncia, Gestao da Operação, Faixa_de_Faturamento_Agregado_Acima de 5 bilhÃµes, Gestao de pessoas, Classificacao_da_Oportunidade_RecuperaÃ§Ã£o, Segmento_Agregado2_AssociaÃ§Ãµes Fed. FundaÃ§Ãµes e Entidades De Classe, Segmento_Agregado2_Ind. FarmacÃªutica, Carteira_Nova_ServiÃ§os, Segmento_Agregado2_ComÃ©rcio de Alimentos e Bebidas, Faixa_de_Faturamento_Agregado_AtÃ© 15 milhÃµes de faturamento, Segmento_Agregado2_AgronegÃ³cio, Carteira_Nova_Bens NÃ£o DurÃ¡veis, Gestao da Segurança Publica, GestÃ£o da EducaÃ§Ã£o, Gestao Estrategica, Carteira_Nova_Infraestrutura e IndÃºstria de Base, Gestao de..."
          ]
        }
      ]
    },
    {
      "cell_type": "code",
      "source": [
        "import pickle    \n",
        "\n",
        "Model = pickle.dumps(model)  \n",
        "\n",
        "# não soubemos utilizar esse tipo de arquivo em uma interface GUI "
      ],
      "metadata": {
        "id": "s1K6nMEDqlay"
      },
      "execution_count": null,
      "outputs": []
    },
    {
      "cell_type": "code",
      "source": [],
      "metadata": {
        "id": "RkWiOpYX7PSh"
      },
      "execution_count": null,
      "outputs": []
    }
  ]
}